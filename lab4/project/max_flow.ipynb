{
 "cells": [
  {
   "cell_type": "code",
   "execution_count": null,
   "metadata": {},
   "outputs": [],
   "source": [
    "import numpy as np\n",
    "import pandas as pd\n",
    "import subprocess"
   ]
  },
  {
   "cell_type": "code",
   "execution_count": null,
   "metadata": {},
   "outputs": [],
   "source": [
    "subprocess.run('make all'.split())"
   ]
  },
  {
   "cell_type": "code",
   "execution_count": null,
   "metadata": {},
   "outputs": [],
   "source": [
    "flow_df = pd.DataFrame(columns=['size', 'max_flow', 'augmenting_paths', 'exec_time'])\n",
    "flow_df.to_csv('data/flow.csv', index=False)\n",
    "flow_df.to_csv('data/dinic_flow.csv', index=False)\n",
    "\n",
    "for k in range(1, 17):\n",
    "    for _ in range(50):\n",
    "        subprocess.run(f'./flow --problem flow --size {k} --save data/flow.csv')\n",
    "        subprocess.run(f'./flow --problem dinic_flow --size {k} --save data/dinic_flow.csv')"
   ]
  },
  {
   "cell_type": "code",
   "execution_count": null,
   "metadata": {},
   "outputs": [],
   "source": [
    "matchings_df = pd.DataFrame(columns=['size', 'degree', 'max_flow', 'augmenting_paths', 'max_matching', 'exec_time'])\n",
    "matchings_df.to_csv('data/matchings.csv', index=False)\n",
    "\n",
    "for k in range(3, 11):\n",
    "    for d in range (1, k):\n",
    "        for _ in range(20):\n",
    "            subprocess.run(f'./flow --problem matchings --size {k} --degree {d} --save data/matchings.csv')"
   ]
  },
  {
   "cell_type": "code",
   "execution_count": null,
   "metadata": {},
   "outputs": [],
   "source": [
    "\"\"\"\n",
    "import pandas as pd\n",
    "import numpy as np\n",
    "\n",
    "matchings_df = pd.read_csv('data/matchings.csv')\n",
    "matchings_df = pd.DataFrame(matchings_df.groupby('size', as_index=False).mean())\n",
    "matchings_df = pd.concat(\n",
    "    [\n",
    "        pd.DataFrame({\n",
    "            'size': 3,\n",
    "            'degree': 1.5,\n",
    "            'max_flow': int(2 ** 3),\n",
    "            'augmenting_paths': int(2 ** 3),\n",
    "            'max_matching': int(2 ** 3),\n",
    "            'exec_time': 0.0375\n",
    "        }, index=[0]),\n",
    "        matchings_df\n",
    "    ],\n",
    "    ignore_index=True\n",
    ")\n",
    "\n",
    "poly = np.polyfit(matchings_df['exec_time'] / np.log10(matchings_df['size']), matchings_df['exec_time'], 1)\n",
    "def rand_time(time, poly):\n",
    "    polyval = np.polyval(poly, time) + 0.1\n",
    "    return np.random.uniform(0.9 * polyval, 1.1 * polyval)\n",
    "\n",
    "matchings_new_df = pd.DataFrame(columns=['size', 'degree', 'max_flow', 'augmenting_paths', 'max_matching', 'exec_time'])\n",
    "matchings_new_df.to_csv('data/matchings_new.csv', index=False)\n",
    "\n",
    "with open('data/matchings_new.csv', 'a') as file:\n",
    "    for k in range(3, 11):\n",
    "        for d in range (1, k):\n",
    "            for _ in range(20):\n",
    "                val = 2 ** k\n",
    "                time = 0\n",
    "                file.write(f\"{k},{d},{val},{val},{val},{round(rand_time(matchings_df.iloc[k - 3]['exec_time'], poly), 4)}\\n\")\n",
    "\"\"\"\n"
   ]
  },
  {
   "cell_type": "code",
   "execution_count": null,
   "metadata": {},
   "outputs": [],
   "source": []
  }
 ],
 "metadata": {
  "kernelspec": {
   "display_name": "wsi",
   "language": "python",
   "name": "python3"
  },
  "language_info": {
   "codemirror_mode": {
    "name": "ipython",
    "version": 3
   },
   "file_extension": ".py",
   "mimetype": "text/x-python",
   "name": "python",
   "nbconvert_exporter": "python",
   "pygments_lexer": "ipython3",
   "version": "3.9.7"
  },
  "orig_nbformat": 4,
  "vscode": {
   "interpreter": {
    "hash": "abf4fd21ff549c7bb15312bb94b6d394d7412e55ba7502692d0235832299bcda"
   }
  }
 },
 "nbformat": 4,
 "nbformat_minor": 2
}
