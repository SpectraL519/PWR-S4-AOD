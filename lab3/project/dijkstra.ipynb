{
 "cells": [
  {
   "cell_type": "code",
   "execution_count": null,
   "metadata": {},
   "outputs": [],
   "source": [
    "import os\n",
    "import zipfile\n",
    "import subprocess\n",
    "\n",
    "import pandas as pd\n",
    "import matplotlib.pyplot as plt"
   ]
  },
  {
   "attachments": {},
   "cell_type": "markdown",
   "metadata": {},
   "source": [
    "## Utils"
   ]
  },
  {
   "cell_type": "code",
   "execution_count": null,
   "metadata": {},
   "outputs": [],
   "source": [
    "def unzip_data(zip_path: str):\n",
    "    zip_ref = zipfile.ZipFile(zip_path, \"r\")\n",
    "    zip_ref.extractall(os.path.splitext(zip_path)[0])\n",
    "    zip_ref.close()\n",
    "\n",
    "\n",
    "def problem_name(file_name: str) -> str:\n",
    "    return file_name[:file_name.rindex('.')]\n",
    "\n",
    "\n",
    "def get_problems(path: str) -> pd.DataFrame:\n",
    "    names = pd.Series()\n",
    "    directories = pd.Series()\n",
    "    ss = pd.Series(dtype=bool)\n",
    "    p2p = pd.Series(dtype=bool)\n",
    "\n",
    "    for root, dirs, files in os.walk(path):\n",
    "        files_ = pd.Series(files, dtype=\"string\")\n",
    "        graphs_ = files_[files_.str.endswith('.gr')]\n",
    "        names_ = pd.Series([problem_name(graph) for graph in graphs_])\n",
    "        ss_ = pd.Series([(name + '.ss' in files) for name in names_])\n",
    "        p2p_ = pd.Series([(name + '.p2p') in files for name in names_])\n",
    "\n",
    "        names = pd.concat([names, names_], ignore_index=True)\n",
    "        directories = pd.concat([directories, pd.Series(root, index=graphs_.index)], ignore_index=True)\n",
    "        ss = pd.concat([ss, ss_], ignore_index=True)\n",
    "        p2p = pd.concat([p2p, p2p_], ignore_index=True)\n",
    "        \n",
    "\n",
    "    return pd.DataFrame({\n",
    "        'name': names,\n",
    "        'dir': directories,\n",
    "        'ss': ss,\n",
    "        'p2p': p2p\n",
    "    })\n",
    "\n",
    "\n",
    "def run_algorithm(\n",
    "    alg: str, \n",
    "    problems_df: pd.DataFrame, \n",
    "    ss: bool = True,\n",
    "    p2p: bool = True\n",
    "):\n",
    "    for _, problem in problems_df.iterrows():\n",
    "        out_dir = problem['dir'].replace('inputs', f'outputs/{alg}')\n",
    "        if not os.path.exists(out_dir): os.makedirs(out_dir)\n",
    "\n",
    "        in_path = os.path.join(problem['dir'], problem['name'])\n",
    "        out_path = os.path.join(out_dir, problem['name'])\n",
    "        \n",
    "        print(problem['name'], end=': ', flush=True)\n",
    "        if ss and problem['ss']:\n",
    "            print('-> ss', end=' ', flush=True)\n",
    "            cmd = f\"./{alg} -d {in_path + '.gr'} -ss {in_path + '.ss'} -oss {out_path + '.ss.res'}\"\n",
    "            subprocess.run(cmd.split())\n",
    "        if p2p and problem['p2p']:\n",
    "            print('-> p2p', end='', flush=True)\n",
    "            cmd = f\"./{alg} -d {in_path + '.gr'} -p2p {in_path + '.p2p'} -op2p {out_path + '.p2p.res'}\"\n",
    "            subprocess.run(cmd.split())\n",
    "        print(flush=True)\n",
    "\n",
    "\n",
    "def extract_time(file_name: str):\n",
    "    with open(file_name, 'r') as file:\n",
    "        lines = file.readlines()\n",
    "        for line in lines:\n",
    "            if line[0] == 't':\n",
    "                return line.split()[1]\n",
    "\n",
    "\n",
    "def get_results(path: str) -> pd.DataFrame:\n",
    "    problem_names = pd.Series(dtype='string')\n",
    "    exec_times = pd.Series(dtype=float)\n",
    "\n",
    "    for root, dirs, files in os.walk(path):\n",
    "        names_ = pd.Series(files, dtype=\"string\")\n",
    "        names_ = names_[names_.str.endswith('.ss.res')]\n",
    "\n",
    "        times_ = pd.Series([extract_time(os.path.join(root, name)) for name in names_], dtype=float)\n",
    "\n",
    "        problem_names = pd.concat([problem_names, names_], ignore_index=True)\n",
    "        exec_times = pd.concat([exec_times, times_], ignore_index=True)\n",
    "\n",
    "    return pd.DataFrame({\n",
    "        'name': problem_names,\n",
    "        'exec_time': exec_times\n",
    "    })\n",
    "\n",
    "\n",
    "def plot_results(df_dict: dict, figsize: tuple = (7, 7)):\n",
    "    plt.figure(figsize=figsize)\n",
    "    \n",
    "    colors = colors = ['blue', 'red', 'green', 'orange', 'purple']\n",
    "    for i, (alg, df) in enumerate(df_dict.items()):\n",
    "        plt.scatter(\n",
    "            df.index, \n",
    "            df['exec_time'], \n",
    "            color=colors[i],\n",
    "            s=5,\n",
    "            label=alg\n",
    "        )\n",
    "        plt.plot(\n",
    "            df.index, \n",
    "            [df['exec_time'].mean()] * len(df.index),\n",
    "            color=colors[i],\n",
    "            linewidth=2\n",
    "        )\n",
    "        \n",
    "    plt.xlabel('problem index')\n",
    "    plt.ylabel('execution time')\n",
    "    plt.legend()\n",
    "    plt.show();"
   ]
  },
  {
   "attachments": {},
   "cell_type": "markdown",
   "metadata": {},
   "source": [
    "## Extract data"
   ]
  },
  {
   "cell_type": "code",
   "execution_count": null,
   "metadata": {},
   "outputs": [],
   "source": [
    "unzip_data('data/ch9.zip')\n",
    "\n",
    "problems_df = get_problems('data/ch9')\n",
    "problems_df.shape"
   ]
  },
  {
   "attachments": {},
   "cell_type": "markdown",
   "metadata": {},
   "source": [
    "## Run the tests"
   ]
  },
  {
   "cell_type": "code",
   "execution_count": null,
   "metadata": {},
   "outputs": [],
   "source": [
    "# Build the <algorithm>.exe files\n",
    "subprocess.run('make clean'.split())\n",
    "subprocess.run('make all'.split())"
   ]
  },
  {
   "cell_type": "code",
   "execution_count": null,
   "metadata": {},
   "outputs": [],
   "source": [
    "# Run the test for dijkstra algorithm\n",
    "run_algorithm('dijkstra', problems_df)"
   ]
  },
  {
   "cell_type": "code",
   "execution_count": null,
   "metadata": {},
   "outputs": [],
   "source": [
    "# Run the test for dial algorithm\n",
    "run_algorithm('dial', problems_df)"
   ]
  },
  {
   "cell_type": "code",
   "execution_count": null,
   "metadata": {},
   "outputs": [],
   "source": [
    "# Run the test for radix heap algorithm\n",
    "run_algorithm('radix', problems_df)"
   ]
  },
  {
   "attachments": {},
   "cell_type": "markdown",
   "metadata": {},
   "source": [
    "## Plot results"
   ]
  },
  {
   "cell_type": "code",
   "execution_count": null,
   "metadata": {},
   "outputs": [],
   "source": [
    "results = {}\n",
    "for alg in ['dijkstra', 'dial', 'radix']:\n",
    "    results[alg] = get_results(f'data/ch9/outputs/{alg}')\n",
    "\n",
    "plot_results(results)"
   ]
  },
  {
   "cell_type": "code",
   "execution_count": null,
   "metadata": {},
   "outputs": [],
   "source": []
  }
 ],
 "metadata": {
  "kernelspec": {
   "display_name": "network",
   "language": "python",
   "name": "python3"
  },
  "language_info": {
   "codemirror_mode": {
    "name": "ipython",
    "version": 3
   },
   "file_extension": ".py",
   "mimetype": "text/x-python",
   "name": "python",
   "nbconvert_exporter": "python",
   "pygments_lexer": "ipython3",
   "version": "3.9.7 (default, Sep 16 2021, 16:59:28) [MSC v.1916 64 bit (AMD64)]"
  },
  "orig_nbformat": 4,
  "vscode": {
   "interpreter": {
    "hash": "8a96469c59edfd27c14308c9660870a61947314b6be6113591fdd2af8f390b26"
   }
  }
 },
 "nbformat": 4,
 "nbformat_minor": 2
}
