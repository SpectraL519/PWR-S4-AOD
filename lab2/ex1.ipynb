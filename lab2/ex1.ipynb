{
 "cells": [
  {
   "attachments": {},
   "cell_type": "markdown",
   "metadata": {},
   "source": [
    "<script type=\"text/javascript\"\n",
    "  src=\"https://cdnjs.cloudflare.com/ajax/libs/mathjax/2.7.0/MathJax.js?config=TeX-AMS_CHTML\">\n",
    "</script>\n",
    "<script type=\"text/x-mathjax-config\">\n",
    "  MathJax.Hub.Config({\n",
    "    tex2jax: {\n",
    "      inlineMath: [['$','$'], ['\\\\(','\\\\)']],\n",
    "      processEscapes: true},\n",
    "      jax: [\"input/TeX\",\"input/MathML\",\"input/AsciiMath\",\"output/CommonHTML\"],\n",
    "      extensions: [\"tex2jax.js\",\"mml2jax.js\",\"asciimath2jax.js\",\"MathMenu.js\",\"MathZoom.js\",\"AssistiveMML.js\", \"[Contrib]/a11y/accessibility-menu.js\"],\n",
    "      TeX: {\n",
    "      extensions: [\"AMSmath.js\",\"AMSsymbols.js\",\"noErrors.js\",\"noUndefined.js\"],\n",
    "      equationNumbers: {\n",
    "      autoNumber: \"AMS\"\n",
    "      }\n",
    "    }\n",
    "  });\n",
    "</script>\n",
    "\n",
    "Jakub Musiał\n",
    "\n",
    "# **AOD - lab2**\n",
    "\n",
    "## **Exercise 1 - Jet fuel purchase**\n",
    "\n",
    "Knowing the airports' fuel demands and comapnies' production capabilities and delivery costs, determine:\n",
    "* The purchase plan and delivery costs which minimize the total cost\n",
    "* The minimal total fuel delivery cost for all airports\n",
    "* Wheter all companies will deliver the fuel\n",
    "* Whether the fuel production capabilities are fully utilized"
   ]
  },
  {
   "cell_type": "code",
   "execution_count": 1,
   "metadata": {},
   "outputs": [],
   "source": [
    "using JuMP\n",
    "using GLPK\n",
    "\n",
    "import JSON"
   ]
  },
  {
   "attachments": {},
   "cell_type": "markdown",
   "metadata": {},
   "source": [
    "#### **Data and utils**"
   ]
  },
  {
   "cell_type": "code",
   "execution_count": 2,
   "metadata": {},
   "outputs": [
    {
     "data": {
      "text/plain": [
       "Dict{String, Any} with 3 entries:\n",
       "  \"max_fuel\"    => Dict{String, Any}(\"c2\"=>550000, \"c1\"=>275000, \"c3\"=>660000)\n",
       "  \"cost\"        => Dict{String, Any}(\"c2\"=>Dict{String, Any}(\"a3\"=>12, \"a2\"=>11…\n",
       "  \"fuel_demand\" => Dict{String, Any}(\"a3\"=>330000, \"a2\"=>220000, \"a1\"=>110000, …"
      ]
     },
     "metadata": {},
     "output_type": "display_data"
    }
   ],
   "source": [
    "# Data initialization\n",
    "data_general = JSON.parse(read(\"data.json\", String))\n",
    "# Extraxt exercise 1 data from the general dictionary\n",
    "data = data_general[\"ex1\"]"
   ]
  },
  {
   "cell_type": "code",
   "execution_count": 3,
   "metadata": {},
   "outputs": [
    {
     "data": {
      "text/plain": [
       "([\"c1\", \"c2\", \"c3\"], [\"a1\", \"a2\", \"a3\", \"a4\"])"
      ]
     },
     "metadata": {},
     "output_type": "display_data"
    }
   ],
   "source": [
    "# Extract company and airport names\n",
    "companies = sort(collect(keys(data[\"max_fuel\"])))\n",
    "airports = sort(collect(keys(data[\"fuel_demand\"])))\n",
    "companies, airports"
   ]
  },
  {
   "cell_type": "code",
   "execution_count": 4,
   "metadata": {},
   "outputs": [
    {
     "data": {
      "text/plain": [
       "cpg (generic function with 1 method)"
      ]
     },
     "metadata": {},
     "output_type": "display_data"
    }
   ],
   "source": [
    "# Delivery cost per gallon function\n",
    "cpg(company::String, airport::String) = data[\"cost\"][company][airport]"
   ]
  },
  {
   "attachments": {},
   "cell_type": "markdown",
   "metadata": {},
   "source": [
    "#### **Build the model**\n",
    "\n",
    "Notation:\n",
    "* $A = \\text{airporits}$\n",
    "* $C = \\text{companies}$"
   ]
  },
  {
   "cell_type": "code",
   "execution_count": 5,
   "metadata": {},
   "outputs": [],
   "source": [
    "model = Model()\n",
    "set_optimizer(model, GLPK.Optimizer)"
   ]
  },
  {
   "attachments": {},
   "cell_type": "markdown",
   "metadata": {},
   "source": [
    "**Predictor variables:**\n",
    "\n",
    "$x_{c, a}$ where $(c, a) \\text{ } \\epsilon \\text{ } C \\times A$ - fuel ammount delivered by company $c$ to airport $a$"
   ]
  },
  {
   "cell_type": "code",
   "execution_count": 6,
   "metadata": {},
   "outputs": [
    {
     "data": {
      "text/plain": [
       "2-dimensional DenseAxisArray{VariableRef,2,...} with index sets:\n",
       "    Dimension 1, [\"c1\", \"c2\", \"c3\"]\n",
       "    Dimension 2, [\"a1\", \"a2\", \"a3\", \"a4\"]\n",
       "And data, a 3×4 Matrix{VariableRef}:\n",
       " x[c1,a1]  x[c1,a2]  x[c1,a3]  x[c1,a4]\n",
       " x[c2,a1]  x[c2,a2]  x[c2,a3]  x[c2,a4]\n",
       " x[c3,a1]  x[c3,a2]  x[c3,a3]  x[c3,a4]"
      ]
     },
     "metadata": {},
     "output_type": "display_data"
    }
   ],
   "source": [
    "@variable(model, x[companies, airports] >= 0)"
   ]
  },
  {
   "attachments": {},
   "cell_type": "markdown",
   "metadata": {},
   "source": [
    "**Constraints:** \n",
    "* Fuel ammounts must be non-negative\n",
    "\n",
    "  $(\\forall{c \\epsilon C})(\\forall{a \\epsilon A})(x_{c, a} \\geq 0)$\n",
    "\n",
    "* Fuel companies cannot deliver more fuel than they can produce\n",
    "  \n",
    "  $(\\forall{c \\epsilon C}) (\\sum_{a \\epsilon A} x_{c, a} \\leq max\\_production(c))$\n",
    "\n",
    "* Airports must receive exactly the ammount of fuel that they have a demand for\n",
    "\n",
    "  $(\\forall{a \\epsilon A}) (\\sum_{c \\epsilon C} x_{c, a} = fuel\\_demand(a))$"
   ]
  },
  {
   "cell_type": "code",
   "execution_count": 7,
   "metadata": {},
   "outputs": [
    {
     "data": {
      "text/plain": [
       "(1-dimensional DenseAxisArray{ConstraintRef{Model, MathOptInterface.ConstraintIndex{MathOptInterface.ScalarAffineFunction{Float64}, MathOptInterface.LessThan{Float64}}, ScalarShape},1,...} with index sets:\n",
       "    Dimension 1, [\"c1\", \"c2\", \"c3\"]\n",
       "And data, a 3-element Vector{ConstraintRef{Model, MathOptInterface.ConstraintIndex{MathOptInterface.ScalarAffineFunction{Float64}, MathOptInterface.LessThan{Float64}}, ScalarShape}}:\n",
       " x[c1,a1] + x[c1,a2] + x[c1,a3] + x[c1,a4] <= 275000.0\n",
       " x[c2,a1] + x[c2,a2] + x[c2,a3] + x[c2,a4] <= 550000.0\n",
       " x[c3,a1] + x[c3,a2] + x[c3,a3] + x[c3,a4] <= 660000.0, 1-dimensional DenseAxisArray{ConstraintRef{Model, MathOptInterface.ConstraintIndex{MathOptInterface.ScalarAffineFunction{Float64}, MathOptInterface.EqualTo{Float64}}, ScalarShape},1,...} with index sets:\n",
       "    Dimension 1, [\"a1\", \"a2\", \"a3\", \"a4\"]\n",
       "And data, a 4-element Vector{ConstraintRef{Model, MathOptInterface.ConstraintIndex{MathOptInterface.ScalarAffineFunction{Float64}, MathOptInterface.EqualTo{Float64}}, ScalarShape}}:\n",
       " x[c1,a1] + x[c2,a1] + x[c3,a1] == 110000.0\n",
       " x[c1,a2] + x[c2,a2] + x[c3,a2] == 220000.0\n",
       " x[c1,a3] + x[c2,a3] + x[c3,a3] == 330000.0\n",
       " x[c1,a4] + x[c2,a4] + x[c3,a4] == 440000.0)"
      ]
     },
     "metadata": {},
     "output_type": "display_data"
    }
   ],
   "source": [
    "@constraints(model, begin\n",
    "    [c in companies], sum(x[c, :]) <= data[\"max_fuel\"][c]\n",
    "    [a in airports], sum(x[:, a]) == data[\"fuel_demand\"][a]\n",
    "end)"
   ]
  },
  {
   "attachments": {},
   "cell_type": "markdown",
   "metadata": {},
   "source": [
    "**Objective:** minimal cost of the required fuel purchase\n",
    "\n",
    "$min(\\sum{a \\epsilon A} \\sum_{c \\epsilon C} (cost\\_per\\_gallon(c, a) * x_{c, a}))$"
   ]
  },
  {
   "cell_type": "code",
   "execution_count": 8,
   "metadata": {},
   "outputs": [
    {
     "data": {
      "text/latex": [
       "$$ 10 x_{c1,a1} + 10 x_{c1,a2} + 9 x_{c1,a3} + 11 x_{c1,a4} + 7 x_{c2,a1} + 11 x_{c2,a2} + 12 x_{c2,a3} + 13 x_{c2,a4} + 8 x_{c3,a1} + 14 x_{c3,a2} + 4 x_{c3,a3} + 9 x_{c3,a4} $$"
      ],
      "text/plain": [
       "10 x[c1,a1] + 10 x[c1,a2] + 9 x[c1,a3] + 11 x[c1,a4] + 7 x[c2,a1] + 11 x[c2,a2] + 12 x[c2,a3] + 13 x[c2,a4] + 8 x[c3,a1] + 14 x[c3,a2] + 4 x[c3,a3] + 9 x[c3,a4]"
      ]
     },
     "metadata": {},
     "output_type": "display_data"
    }
   ],
   "source": [
    "@objective(\n",
    "    model, \n",
    "    Min, \n",
    "    sum(cpg(c, a) * x[c, a] for c in companies, a in airports)\n",
    ")"
   ]
  },
  {
   "cell_type": "code",
   "execution_count": 9,
   "metadata": {},
   "outputs": [
    {
     "data": {
      "text/plain": [
       "* Solver : GLPK\n",
       "\n",
       "* Status\n",
       "  Result count       : 1\n",
       "  Termination status : OPTIMAL\n",
       "  Message from the solver:\n",
       "  \"Solution is optimal\"\n",
       "\n",
       "* Candidate solution (result #1)\n",
       "  Primal status      : FEASIBLE_POINT\n",
       "  Dual status        : FEASIBLE_POINT\n",
       "  Objective value    : 8.52500e+06\n",
       "  Objective bound    : -Inf\n",
       "  Dual objective value : 8.52500e+06\n",
       "\n",
       "* Work counters\n",
       "  Solve time (sec)   : 0.00000e+00\n"
      ]
     },
     "metadata": {},
     "output_type": "display_data"
    }
   ],
   "source": [
    "# Optimize the model\n",
    "optimize!(model)\n",
    "solution_summary(model)"
   ]
  },
  {
   "attachments": {},
   "cell_type": "markdown",
   "metadata": {},
   "source": [
    "#### **Results**\n",
    "\n",
    "* The purchase plan and delivery costs:"
   ]
  },
  {
   "cell_type": "code",
   "execution_count": 11,
   "metadata": {},
   "outputs": [
    {
     "name": "stdout",
     "output_type": "stream",
     "text": [
      "Purchase plans:\n",
      "Airport a1:\n",
      "\t* c1 - 0.0 gallons (price: 0.0)\n",
      "\t* c2 - 110000.0 gallons (price: 770000.0)\n",
      "\t* c3 - 0.0 gallons (price: 0.0)\n",
      "Airport a2:\n",
      "\t* c1 - 165000.0 gallons (price: 1.65e6)\n",
      "\t* c2 - 55000.0 gallons (price: 605000.0)\n",
      "\t* c3 - 0.0 gallons (price: 0.0)\n",
      "Airport a3:\n",
      "\t* c1 - 0.0 gallons (price: 0.0)\n",
      "\t* c2 - 0.0 gallons (price: 0.0)\n",
      "\t* c3 - 330000.0 gallons (price: 1.32e6)\n",
      "Airport a4:\n",
      "\t* c1 - 110000.0 gallons (price: 1.21e6)\n",
      "\t* c2 - 0.0 gallons (price: 0.0)\n",
      "\t* c3 - 330000.0 gallons (price: 2.97e6)\n"
     ]
    }
   ],
   "source": [
    "println(\"Purchase plans:\")\n",
    "for a in airports\n",
    "    println(\"Airport \", a, \":\")\n",
    "    for c in companies\n",
    "        v = value(x[c, a])\n",
    "        println(\"\\t* \", c, \" - \", v, \" gallons (price: \", v * cpg(c, a), \")\")\n",
    "    end\n",
    "end"
   ]
  },
  {
   "attachments": {},
   "cell_type": "markdown",
   "metadata": {},
   "source": [
    "<br />\n",
    "\n",
    "* Minimal total fuel delivery cost for all airports:\n",
    "\n",
    "    $cost_{min} = \\sum_{a \\epsilon A} \\sum_{c \\epsilon C} x[c, a] * cost\\_per\\_gallon(c, a)$"
   ]
  },
  {
   "cell_type": "code",
   "execution_count": 12,
   "metadata": {},
   "outputs": [
    {
     "data": {
      "text/plain": [
       "8.525e6"
      ]
     },
     "metadata": {},
     "output_type": "display_data"
    }
   ],
   "source": [
    "sum(value(x[c, a]) * cpg(c, a) for c in companies, a in airports)"
   ]
  },
  {
   "attachments": {},
   "cell_type": "markdown",
   "metadata": {},
   "source": [
    "* All companies will deliver the fuel:\n",
    "\n",
    "    $\n",
    "    all = \n",
    "        \\begin{cases}\n",
    "        true & \\text{: } (\\forall{c \\epsilon C})((\\exists{a \\epsilon A})(x[c, a] > 0))\\\\\n",
    "        false & \\text{: else}\n",
    "        \\end{cases}\n",
    "    $"
   ]
  },
  {
   "cell_type": "code",
   "execution_count": 13,
   "metadata": {},
   "outputs": [
    {
     "data": {
      "text/plain": [
       "true"
      ]
     },
     "metadata": {},
     "output_type": "display_data"
    }
   ],
   "source": [
    "all(any(value(x[c, a]) > 0 for a in airports) for c in companies)"
   ]
  },
  {
   "attachments": {},
   "cell_type": "markdown",
   "metadata": {},
   "source": [
    "* Fuel production capabilities are fully utilized:\n",
    "\n",
    "    $\n",
    "    full(c) = \n",
    "        \\begin{cases}\n",
    "        true & \\text{: } \\sum_{a \\epsilon A} x[c, a] = max\\_production(c)\\\\\n",
    "        false & \\text{: else}\n",
    "        \\end{cases}\n",
    "    $"
   ]
  },
  {
   "cell_type": "code",
   "execution_count": 15,
   "metadata": {},
   "outputs": [
    {
     "name": "stdout",
     "output_type": "stream",
     "text": [
      "Fully utlizied:\n",
      "c1: false\n",
      "c2: false\n",
      "c3: false\n"
     ]
    }
   ],
   "source": [
    "println(\"Fully utlizied:\")\n",
    "for c in companies\n",
    "    println(c, \": \", sum(x[c, :]) == data[\"max_fuel\"][c])\n",
    "end"
   ]
  },
  {
   "cell_type": "code",
   "execution_count": null,
   "metadata": {},
   "outputs": [],
   "source": []
  }
 ],
 "metadata": {
  "kernelspec": {
   "display_name": "Julia 1.8.5",
   "language": "julia",
   "name": "julia-1.8"
  },
  "language_info": {
   "file_extension": ".jl",
   "mimetype": "application/julia",
   "name": "julia",
   "version": "1.8.5"
  },
  "orig_nbformat": 4,
  "vscode": {
   "interpreter": {
    "hash": "bb3fc9253f691de8b2afab607c1d2c8a0f35ddacb9fe9af8dd6ee1b2ca974a2f"
   }
  }
 },
 "nbformat": 4,
 "nbformat_minor": 2
}
