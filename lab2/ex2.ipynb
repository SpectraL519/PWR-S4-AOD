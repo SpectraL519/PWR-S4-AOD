{
 "cells": [
  {
   "attachments": {},
   "cell_type": "markdown",
   "metadata": {},
   "source": [
    "<script type=\"text/javascript\"\n",
    "  src=\"https://cdnjs.cloudflare.com/ajax/libs/mathjax/2.7.0/MathJax.js?config=TeX-AMS_CHTML\">\n",
    "</script>\n",
    "<script type=\"text/x-mathjax-config\">\n",
    "  MathJax.Hub.Config({\n",
    "    tex2jax: {\n",
    "      inlineMath: [['$','$'], ['\\\\(','\\\\)']],\n",
    "      processEscapes: true},\n",
    "      jax: [\"input/TeX\",\"input/MathML\",\"input/AsciiMath\",\"output/CommonHTML\"],\n",
    "      extensions: [\"tex2jax.js\",\"mml2jax.js\",\"asciimath2jax.js\",\"MathMenu.js\",\"MathZoom.js\",\"AssistiveMML.js\", \"[Contrib]/a11y/accessibility-menu.js\"],\n",
    "      TeX: {\n",
    "      extensions: [\"AMSmath.js\",\"AMSsymbols.js\",\"noErrors.js\",\"noUndefined.js\"],\n",
    "      equationNumbers: {\n",
    "      autoNumber: \"AMS\"\n",
    "      }\n",
    "    }\n",
    "  });\n",
    "</script>\n",
    "\n",
    "Jakub Musiał\n",
    "\n",
    "# **AOD - lab2**\n",
    "\n",
    "## **Exercise 2 - Best route**\n",
    "\n",
    "Knowing a graph of connections between cities, travel costs and times, determine the cheapest route the travel time of which does not exceed $T$"
   ]
  },
  {
   "cell_type": "code",
   "execution_count": 1,
   "metadata": {},
   "outputs": [],
   "source": [
    "using JuMP\n",
    "using GLPK\n",
    "\n",
    "import JSON"
   ]
  },
  {
   "attachments": {},
   "cell_type": "markdown",
   "metadata": {},
   "source": [
    "#### **Data and utils**"
   ]
  },
  {
   "cell_type": "code",
   "execution_count": 2,
   "metadata": {},
   "outputs": [
    {
     "data": {
      "text/plain": [
       "Dict{String, Any} with 4 entries:\n",
       "  \"destination\" => \"Kyiv\"\n",
       "  \"source\"      => \"Madrid\"\n",
       "  \"T\"           => 40\n",
       "  \"connections\" => Dict{String, Any}(\"Warsaw\"=>Dict{String, Any}(\"Kyiv\"=>Dict{S…"
      ]
     },
     "metadata": {},
     "output_type": "display_data"
    }
   ],
   "source": [
    "# Data initialization\n",
    "data_general = JSON.parse(read(\"data.json\", String))\n",
    "# Extraxt exercise 2 data from the general dictionary\n",
    "data = data_general[\"ex2\"]"
   ]
  },
  {
   "cell_type": "code",
   "execution_count": 3,
   "metadata": {},
   "outputs": [
    {
     "data": {
      "text/plain": [
       "([\"Amsterdam\", \"Berlin\", \"Bern\", \"Bratislava\", \"Brussels\", \"Kyiv\", \"Madrid\", \"Paris\", \"Prague\", \"Rome\", \"Vienna\", \"Warsaw\"], \"Madrid\", \"Kyiv\", 40)"
      ]
     },
     "metadata": {},
     "output_type": "display_data"
    }
   ],
   "source": [
    "cities = sort(collect(keys(data[\"connections\"])))\n",
    "src = data[\"source\"]\n",
    "dest = data[\"destination\"]\n",
    "T = data[\"T\"]\n",
    "cities, src, dest, T"
   ]
  },
  {
   "cell_type": "code",
   "execution_count": 4,
   "metadata": {},
   "outputs": [
    {
     "data": {
      "text/plain": [
       "cost (generic function with 1 method)"
      ]
     },
     "metadata": {},
     "output_type": "display_data"
    }
   ],
   "source": [
    "neighbors(city::String) = keys(data[\"connections\"][city])\n",
    "time(ci::String, cj::String) = data[\"connections\"][ci][cj][\"time\"]\n",
    "cost(ci::String, cj::String) = data[\"connections\"][ci][cj][\"cost\"]"
   ]
  },
  {
   "attachments": {},
   "cell_type": "markdown",
   "metadata": {},
   "source": [
    "#### **Build the model**\n",
    "\n",
    "Notation:\n",
    "* $C = \\text{cities}$"
   ]
  },
  {
   "cell_type": "code",
   "execution_count": 5,
   "metadata": {},
   "outputs": [],
   "source": [
    "model = Model()\n",
    "set_optimizer(model, GLPK.Optimizer)"
   ]
  },
  {
   "attachments": {},
   "cell_type": "markdown",
   "metadata": {},
   "source": [
    "**Predictor variables:**\n",
    "\n",
    "$x_{c_i, c_j}$ where $(c_i, c_j) \\text{ } \\epsilon \\text{ } C^2$ - indicator that the best route includes the path from city $c_i$ to city $c_j$"
   ]
  },
  {
   "cell_type": "code",
   "execution_count": 6,
   "metadata": {},
   "outputs": [
    {
     "data": {
      "text/plain": [
       "2-dimensional DenseAxisArray{VariableRef,2,...} with index sets:\n",
       "    Dimension 1, [\"Amsterdam\", \"Berlin\", \"Bern\", \"Bratislava\", \"Brussels\", \"Kyiv\", \"Madrid\", \"Paris\", \"Prague\", \"Rome\", \"Vienna\", \"Warsaw\"]\n",
       "    Dimension 2, [\"Amsterdam\", \"Berlin\", \"Bern\", \"Bratislava\", \"Brussels\", \"Kyiv\", \"Madrid\", \"Paris\", \"Prague\", \"Rome\", \"Vienna\", \"Warsaw\"]\n",
       "And data, a 12×12 Matrix{VariableRef}:\n",
       " x[Amsterdam,Amsterdam]   x[Amsterdam,Berlin]   …  x[Amsterdam,Warsaw]\n",
       " x[Berlin,Amsterdam]      x[Berlin,Berlin]         x[Berlin,Warsaw]\n",
       " x[Bern,Amsterdam]        x[Bern,Berlin]           x[Bern,Warsaw]\n",
       " x[Bratislava,Amsterdam]  x[Bratislava,Berlin]     x[Bratislava,Warsaw]\n",
       " x[Brussels,Amsterdam]    x[Brussels,Berlin]       x[Brussels,Warsaw]\n",
       " x[Kyiv,Amsterdam]        x[Kyiv,Berlin]        …  x[Kyiv,Warsaw]\n",
       " x[Madrid,Amsterdam]      x[Madrid,Berlin]         x[Madrid,Warsaw]\n",
       " x[Paris,Amsterdam]       x[Paris,Berlin]          x[Paris,Warsaw]\n",
       " x[Prague,Amsterdam]      x[Prague,Berlin]         x[Prague,Warsaw]\n",
       " x[Rome,Amsterdam]        x[Rome,Berlin]           x[Rome,Warsaw]\n",
       " x[Vienna,Amsterdam]      x[Vienna,Berlin]      …  x[Vienna,Warsaw]\n",
       " x[Warsaw,Amsterdam]      x[Warsaw,Berlin]         x[Warsaw,Warsaw]"
      ]
     },
     "metadata": {},
     "output_type": "display_data"
    }
   ],
   "source": [
    "@variable(model, x[cities, cities], Bin)"
   ]
  },
  {
   "attachments": {},
   "cell_type": "markdown",
   "metadata": {},
   "source": [
    "**Constraints:** \n",
    "\n",
    "* Indicators must be binary\n",
    "  \n",
    "  $(\\forall{(c, c') \\text{ } \\epsilon \\text{ } C^2})(x_{c, c'} \\text{ } \\epsilon \\text{ } \\{0, 1\\})$\n",
    "\n",
    "* If a city $c'$ is not a neighbor of $c$, the indicator $x_{c, c'}$ must be equal to 0\n",
    "  \n",
    "  $(\\forall{c \\epsilon C})(\\forall{c' \\epsilon C \\setminus \\text{neighbors}(c)})(x_{c, c'} = 0)$\n",
    "\n",
    "* The source must be exited\n",
    "  \n",
    "  $\n",
    "  \\left\\lbrace \n",
    "  \\begin{array}{l}\n",
    "  (\\sum_{c \\text{ } \\epsilon \\text{ neighbors}(src)} x_{src, c} = 1) \\newline\n",
    "  (\\sum_{c \\text{ } \\epsilon \\text{ neighbors}(src)} x_{c, src} = 0)\n",
    "  \\end{array}\\right.\n",
    "  $\n",
    "\n",
    "* The destination cannot be exited\n",
    "\n",
    "  $\n",
    "  \\left\\lbrace \n",
    "  \\begin{array}{l}\n",
    "  (\\sum_{c \\text{ } \\epsilon \\text{ neighbors}(dest)} x_{dest, c} = 0) \\newline\n",
    "  (\\sum_{c \\text{ } \\epsilon \\text{ neighbors}(dest)} x_{c, dest} = 1)\n",
    "  \\end{array}\\right.\n",
    "  $\n",
    "\n",
    "* All cities other than the source and destination must be exited the same ammount of times as the are entered\n",
    "  \n",
    "  $(\\forall{c \\epsilon C \\setminus \\{src, dest\\}})(\\sum_{c' \\epsilon C} x_{c, c'} = \\sum_{c' \\epsilon C} x_{c', c})$\n",
    "\n",
    "* The total trip time cannot exceed given time $T$\n",
    "  \n",
    "  $\\sum_{c \\epsilon C} \\sum_{c' \\epsilon \\text{ neighbors}(c)} x_{c, c'} * time(c, c') \\leq T$"
   ]
  },
  {
   "cell_type": "code",
   "execution_count": 7,
   "metadata": {},
   "outputs": [],
   "source": [
    "for ci in cities, cj in cities \n",
    "    if !(cj in neighbors(ci))\n",
    "        @constraint(model, x[ci, cj] == 0)\n",
    "    end\n",
    "end\n",
    "\n",
    "@constraints(model, begin\n",
    "    sum(x[src, :]) == 1\n",
    "    sum(x[:, src]) == 0\n",
    "    sum(x[dest, :]) == 0\n",
    "    sum(x[:, dest]) == 1\n",
    "    sum(x[ci, cj] * time(ci, cj) for ci in cities, cj in neighbors(ci)) <= T\n",
    "end)\n",
    "\n",
    "for c in cities\n",
    "    if (c != src && c != dest)\n",
    "        @constraint(model, sum(x[c, :]) == sum(x[:, c]))\n",
    "    end\n",
    "end"
   ]
  },
  {
   "attachments": {},
   "cell_type": "markdown",
   "metadata": {},
   "source": [
    "**Objective:** minimal (source -> destination) trip cost\n",
    "\n",
    "$min(\\sum_{(c_i \\epsilon C)} \\sum_{c_j \\epsilon \\text{neigbors}(c_i)} x_{c_i, c_j} * cost(c_i, c_j))$"
   ]
  },
  {
   "cell_type": "code",
   "execution_count": 8,
   "metadata": {},
   "outputs": [
    {
     "data": {
      "text/latex": [
       "$$ x_{Amsterdam,Brussels} + 9 x_{Amsterdam,Berlin} + 13 x_{Berlin,Warsaw} + 5 x_{Berlin,Brussels} + x_{Berlin,Prague} + 17 x_{Berlin,Bern} + 13 x_{Berlin,Amsterdam} + 17 x_{Berlin,Vienna} + 14 x_{Bern,Rome} + 10 x_{Bern,Paris} + 10 x_{Bern,Berlin} + 24 x_{Bern,Vienna} + 6 x_{Bratislava,Kyiv} + 8 x_{Bratislava,Warsaw} + 7 x_{Bratislava,Prague} + x_{Bratislava,Vienna} + 4 x_{Brussels,Paris} + 21 x_{Brussels,Berlin} + x_{Brussels,Amsterdam} + 8 x_{Kyiv,Warsaw} + 32 x_{Kyiv,Bratislava} + 20 x_{Madrid,Paris} + 20 x_{Paris,Madrid} + 4 x_{Paris,Rome} + 11 x_{Paris,Brussels} + 2 x_{Paris,Bern} + x_{Prague,Warsaw} + 8 x_{Prague,Bratislava} + 7 x_{Prague,Berlin} + 7 x_{Prague,Vienna} + 16 x_{Rome,Paris} + 19 x_{Rome,Bern} + 28 x_{Rome,Vienna} + 29 x_{Vienna,Rome} + x_{Vienna,Bratislava} + 4 x_{Vienna,Prague} + 18 x_{Vienna,Bern} + 2 x_{Vienna,Berlin} + x_{Warsaw,Kyiv} + 13 x_{Warsaw,Bratislava} + 2 x_{Warsaw,Prague} + 11 x_{Warsaw,Berlin} $$"
      ],
      "text/plain": [
       "x[Amsterdam,Brussels] + 9 x[Amsterdam,Berlin] + 13 x[Berlin,Warsaw] + 5 x[Berlin,Brussels] + x[Berlin,Prague] + 17 x[Berlin,Bern] + 13 x[Berlin,Amsterdam] + 17 x[Berlin,Vienna] + 14 x[Bern,Rome] + 10 x[Bern,Paris] + 10 x[Bern,Berlin] + 24 x[Bern,Vienna] + 6 x[Bratislava,Kyiv] + 8 x[Bratislava,Warsaw] + 7 x[Bratislava,Prague] + x[Bratislava,Vienna] + 4 x[Brussels,Paris] + 21 x[Brussels,Berlin] + x[Brussels,Amsterdam] + 8 x[Kyiv,Warsaw] + 32 x[Kyiv,Bratislava] + 20 x[Madrid,Paris] + 20 x[Paris,Madrid] + 4 x[Paris,Rome] + 11 x[Paris,Brussels] + 2 x[Paris,Bern] + x[Prague,Warsaw] + 8 x[Prague,Bratislava] + 7 x[Prague,Berlin] + 7 x[Prague,Vienna] + 16 x[Rome,Paris] + 19 x[Rome,Bern] + 28 x[Rome,Vienna] + 29 x[Vienna,Rome] + x[Vienna,Bratislava] + 4 x[Vienna,Prague] + 18 x[Vienna,Bern] + 2 x[Vienna,Berlin] + x[Warsaw,Kyiv] + 13 x[Warsaw,Bratislava] + 2 x[Warsaw,Prague] + 11 x[Warsaw,Berlin]"
      ]
     },
     "metadata": {},
     "output_type": "display_data"
    }
   ],
   "source": [
    "@objective(model, Min, sum(x[ci, cj] * cost(ci, cj) for ci in cities, cj in neighbors(ci)))"
   ]
  },
  {
   "cell_type": "code",
   "execution_count": 9,
   "metadata": {},
   "outputs": [
    {
     "data": {
      "text/plain": [
       "* Solver : GLPK\n",
       "\n",
       "* Status\n",
       "  Result count       : 1\n",
       "  Termination status : OPTIMAL\n",
       "  Message from the solver:\n",
       "  \"Solution is optimal\"\n",
       "\n",
       "* Candidate solution (result #1)\n",
       "  Primal status      : FEASIBLE_POINT\n",
       "  Dual status        : NO_SOLUTION\n",
       "  Objective value    : 5.50000e+01\n",
       "  Objective bound    : 5.50000e+01\n",
       "  Relative gap       : 0.00000e+00\n",
       "\n",
       "* Work counters\n",
       "  Solve time (sec)   : 3.00002e-03\n"
      ]
     },
     "metadata": {},
     "output_type": "display_data"
    }
   ],
   "source": [
    "# Optimize the model\n",
    "optimize!(model)\n",
    "solution_summary(model)"
   ]
  },
  {
   "attachments": {},
   "cell_type": "markdown",
   "metadata": {},
   "source": [
    "#### **Results**\n",
    "\n",
    "* Best route"
   ]
  },
  {
   "cell_type": "code",
   "execution_count": 11,
   "metadata": {},
   "outputs": [
    {
     "name": "stdout",
     "output_type": "stream",
     "text": [
      "Madrid -> Paris\n",
      "Paris -> Brussels\n",
      "Brussels -> Amsterdam\n",
      "Amsterdam -> Berlin\n",
      "Berlin -> Warsaw\n",
      "Warsaw -> Kyiv\n",
      "\n",
      "total cost: 55\n",
      "total time: 40 <= T: true\n"
     ]
    }
   ],
   "source": [
    "city = src\n",
    "total_cost = 0\n",
    "total_time = 0\n",
    "\n",
    "while city != dest \n",
    "    for neighbor in neighbors(city)\n",
    "        if value(x[city, neighbor]) == 1\n",
    "            println(city, \" -> \", neighbor)\n",
    "            total_cost += cost(city, neighbor)\n",
    "            total_time += time(city, neighbor)\n",
    "            city = neighbor\n",
    "        end\n",
    "    end\n",
    "end\n",
    "\n",
    "println(\"\\ntotal cost: \", total_cost)\n",
    "println(\"total time: \", total_time, \" <= T: \", total_time <= T)"
   ]
  },
  {
   "attachments": {},
   "cell_type": "markdown",
   "metadata": {},
   "source": [
    "* Best route with non-integer predictor variables"
   ]
  },
  {
   "cell_type": "code",
   "execution_count": 12,
   "metadata": {},
   "outputs": [
    {
     "name": "stdout",
     "output_type": "stream",
     "text": [
      "Madrid -> Paris\n",
      "Paris -> Brussels\n",
      "Brussels -> Amsterdam\n",
      "Amsterdam -> Berlin\n",
      "Berlin -> Warsaw\n",
      "Warsaw -> Kyiv\n",
      "\n",
      "total cost: 55\n",
      "total time: 40 <= T: true\n"
     ]
    }
   ],
   "source": [
    "model = Model()\n",
    "set_optimizer(model, GLPK.Optimizer)\n",
    "\n",
    "# Predictor variables\n",
    "@variable(model, x[cities, cities] >= 0) # NON-INTEGER VALUES\n",
    "\n",
    "# Constraints\n",
    "for ci in cities, cj in cities \n",
    "    if !(cj in neighbors(ci))\n",
    "        @constraint(model, x[ci, cj] == 0)\n",
    "    end\n",
    "end\n",
    "@constraints(model, begin\n",
    "    sum(x[src, :]) == 1\n",
    "    sum(x[:, src]) == 0\n",
    "    sum(x[dest, :]) == 0\n",
    "    sum(x[:, dest]) == 1\n",
    "    sum(x[ci, cj] * time(ci, cj) for ci in cities, cj in neighbors(ci)) <= T\n",
    "end)\n",
    "for c in cities\n",
    "    if (c != src && c != dest)\n",
    "        @constraint(model, sum(x[c, :]) == sum(x[:, c]))\n",
    "    end\n",
    "end\n",
    "\n",
    "# objective\n",
    "@objective(model, Min, sum(x[ci, cj] * cost(ci, cj) for ci in cities, cj in neighbors(ci)))\n",
    "\n",
    "# Optimize the model\n",
    "optimize!(model)\n",
    "\n",
    "# Results\n",
    "city = src\n",
    "total_cost = 0\n",
    "total_time = 0\n",
    "\n",
    "while city != dest \n",
    "    for neighbor in neighbors(city)\n",
    "        if value(x[city, neighbor]) == 1\n",
    "            println(city, \" -> \", neighbor)\n",
    "            total_cost += cost(city, neighbor)\n",
    "            total_time += time(city, neighbor)\n",
    "            city = neighbor\n",
    "        end\n",
    "    end\n",
    "end\n",
    "\n",
    "println(\"\\ntotal cost: \", total_cost)\n",
    "println(\"total time: \", total_time, \" <= T: \", total_time <= T)"
   ]
  },
  {
   "attachments": {},
   "cell_type": "markdown",
   "metadata": {},
   "source": [
    "* Best route with non-integer predictor variables and no maximum time constraint"
   ]
  },
  {
   "cell_type": "code",
   "execution_count": 13,
   "metadata": {},
   "outputs": [
    {
     "name": "stdout",
     "output_type": "stream",
     "text": [
      "Madrid -> Paris\n",
      "Paris -> Bern\n",
      "Bern -> Berlin\n",
      "Berlin -> Prague\n",
      "Prague -> Warsaw\n",
      "Warsaw -> Kyiv\n",
      "\n",
      "total cost: 35\n",
      "total time: 48 <= T: false\n"
     ]
    }
   ],
   "source": [
    "model = Model()\n",
    "set_optimizer(model, GLPK.Optimizer)\n",
    "\n",
    "# Predictor variables\n",
    "@variable(model, x[cities, cities] >= 0) # NON-INTEGER VALUES\n",
    "\n",
    "# Constraints\n",
    "for ci in cities, cj in cities \n",
    "    if !(cj in neighbors(ci))\n",
    "        @constraint(model, x[ci, cj] == 0)\n",
    "    end\n",
    "end\n",
    "@constraints(model, begin\n",
    "    sum(x[src, :]) == 1\n",
    "    sum(x[:, src]) == 0\n",
    "    sum(x[dest, :]) == 0\n",
    "    sum(x[:, dest]) == 1\n",
    "    # sum(x[ci, cj] * time(ci, cj) for ci in cities, cj in neighbors(ci)) <= T\n",
    "end)\n",
    "for c in cities\n",
    "    if (c != src && c != dest)\n",
    "        @constraint(model, sum(x[c, :]) == sum(x[:, c]))\n",
    "    end\n",
    "end\n",
    "\n",
    "# objective\n",
    "@objective(model, Min, sum(x[ci, cj] * cost(ci, cj) for ci in cities, cj in neighbors(ci)))\n",
    "\n",
    "# Optimize the model\n",
    "optimize!(model)\n",
    "\n",
    "# Results\n",
    "city = src\n",
    "total_cost = 0\n",
    "total_time = 0\n",
    "\n",
    "while city != dest \n",
    "    for neighbor in neighbors(city)\n",
    "        if value(x[city, neighbor]) == 1\n",
    "            println(city, \" -> \", neighbor)\n",
    "            total_cost += cost(city, neighbor)\n",
    "            total_time += time(city, neighbor)\n",
    "            city = neighbor\n",
    "        end\n",
    "    end\n",
    "end\n",
    "\n",
    "println(\"\\ntotal cost: \", total_cost)\n",
    "println(\"total time: \", total_time, \" <= T: \", total_time <= T)"
   ]
  },
  {
   "cell_type": "code",
   "execution_count": null,
   "metadata": {},
   "outputs": [],
   "source": []
  }
 ],
 "metadata": {
  "kernelspec": {
   "display_name": "Julia 1.8.5",
   "language": "julia",
   "name": "julia-1.8"
  },
  "language_info": {
   "file_extension": ".jl",
   "mimetype": "application/julia",
   "name": "julia",
   "version": "1.8.5"
  },
  "orig_nbformat": 4,
  "vscode": {
   "interpreter": {
    "hash": "bb3fc9253f691de8b2afab607c1d2c8a0f35ddacb9fe9af8dd6ee1b2ca974a2f"
   }
  }
 },
 "nbformat": 4,
 "nbformat_minor": 2
}
