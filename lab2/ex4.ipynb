{
 "cells": [
  {
   "attachments": {},
   "cell_type": "markdown",
   "metadata": {},
   "source": [
    "<script type=\"text/javascript\"\n",
    "  src=\"https://cdnjs.cloudflare.com/ajax/libs/mathjax/2.7.0/MathJax.js?config=TeX-AMS_CHTML\">\n",
    "</script>\n",
    "<script type=\"text/x-mathjax-config\">\n",
    "  MathJax.Hub.Config({\n",
    "    tex2jax: {\n",
    "      inlineMath: [['$','$'], ['\\\\(','\\\\)']],\n",
    "      processEscapes: true},\n",
    "      jax: [\"input/TeX\",\"input/MathML\",\"input/AsciiMath\",\"output/CommonHTML\"],\n",
    "      extensions: [\"tex2jax.js\",\"mml2jax.js\",\"asciimath2jax.js\",\"MathMenu.js\",\"MathZoom.js\",\"AssistiveMML.js\", \"[Contrib]/a11y/accessibility-menu.js\"],\n",
    "      TeX: {\n",
    "      extensions: [\"AMSmath.js\",\"AMSsymbols.js\",\"noErrors.js\",\"noUndefined.js\"],\n",
    "      equationNumbers: {\n",
    "      autoNumber: \"AMS\"\n",
    "      }\n",
    "    }\n",
    "  });\n",
    "</script>\n",
    "\n",
    "Jakub Musiał\n",
    "\n",
    "# **AOD - lab2**\n",
    "\n",
    "## **Exercise 4 - Containers**\n",
    "\n",
    "Knowing the container arrangement and the cameras' field of view, determine the optimal camera arrangement (minimal number of cameras to cover all containers)"
   ]
  },
  {
   "cell_type": "code",
   "execution_count": 1,
   "metadata": {},
   "outputs": [],
   "source": [
    "using JuMP\n",
    "using GLPK\n",
    "\n",
    "import JSON"
   ]
  },
  {
   "attachments": {},
   "cell_type": "markdown",
   "metadata": {},
   "source": [
    "#### **Data and utils**"
   ]
  },
  {
   "cell_type": "code",
   "execution_count": 2,
   "metadata": {},
   "outputs": [
    {
     "data": {
      "text/plain": [
       "Dict{String, Any} with 4 entries:\n",
       "  \"m\"          => 5\n",
       "  \"k\"          => 2\n",
       "  \"containers\" => Dict{String, Any}(\"c1\"=>Any[1, 2], \"c9\"=>Any[5, 4], \"c2\"=>Any…\n",
       "  \"n\"          => 5"
      ]
     },
     "metadata": {},
     "output_type": "display_data"
    }
   ],
   "source": [
    "# Data initialization\n",
    "data_general = JSON.parse(read(\"data.json\", String))\n",
    "# Extraxt exercise 1 data from the general dictionary\n",
    "data = data_general[\"ex4\"]"
   ]
  },
  {
   "cell_type": "code",
   "execution_count": 3,
   "metadata": {},
   "outputs": [
    {
     "data": {
      "text/plain": [
       "(5, 5, 2, [\"c0\", \"c1\", \"c10\", \"c2\", \"c3\", \"c4\", \"c5\", \"c6\", \"c7\", \"c8\", \"c9\"])"
      ]
     },
     "metadata": {},
     "output_type": "display_data"
    }
   ],
   "source": [
    "m = data[\"m\"]\n",
    "n = data[\"n\"]\n",
    "k = data[\"k\"]\n",
    "containers = sort(collect(keys(data[\"containers\"])))\n",
    "m, n, k, containers"
   ]
  },
  {
   "cell_type": "code",
   "execution_count": 4,
   "metadata": {},
   "outputs": [
    {
     "data": {
      "text/plain": [
       "cy (generic function with 1 method)"
      ]
     },
     "metadata": {},
     "output_type": "display_data"
    }
   ],
   "source": [
    "cx(container::String) = data[\"containers\"][container][1]\n",
    "cy(container::String) = data[\"containers\"][container][2]"
   ]
  },
  {
   "attachments": {},
   "cell_type": "markdown",
   "metadata": {},
   "source": [
    "#### **Build the model**\n",
    "\n",
    "Notation:\n",
    "* $C = \\text{containers}$\n",
    "* $[n] = \\{1, ..., n\\} \\text{ : } n \\epsilon \\mathbf{N}$"
   ]
  },
  {
   "cell_type": "code",
   "execution_count": 5,
   "metadata": {},
   "outputs": [],
   "source": [
    "model = Model()\n",
    "set_optimizer(model, GLPK.Optimizer)"
   ]
  },
  {
   "attachments": {},
   "cell_type": "markdown",
   "metadata": {},
   "source": [
    "**Predictor variables:**\n",
    "\n",
    "$x_{i, j}$ where $(i, j) \\text{ } \\epsilon \\text{ } [m] \\times [n]$ - indicator that there is a camera on the position $(i, j)$ "
   ]
  },
  {
   "cell_type": "code",
   "execution_count": 6,
   "metadata": {},
   "outputs": [
    {
     "data": {
      "text/plain": [
       "2-dimensional DenseAxisArray{VariableRef,2,...} with index sets:\n",
       "    Dimension 1, 1:5\n",
       "    Dimension 2, 1:5\n",
       "And data, a 5×5 Matrix{VariableRef}:\n",
       " x[1,1]  x[1,2]  x[1,3]  x[1,4]  x[1,5]\n",
       " x[2,1]  x[2,2]  x[2,3]  x[2,4]  x[2,5]\n",
       " x[3,1]  x[3,2]  x[3,3]  x[3,4]  x[3,5]\n",
       " x[4,1]  x[4,2]  x[4,3]  x[4,4]  x[4,5]\n",
       " x[5,1]  x[5,2]  x[5,3]  x[5,4]  x[5,5]"
      ]
     },
     "metadata": {},
     "output_type": "display_data"
    }
   ],
   "source": [
    "@variable(model, x[range(1, m), range(1, n)], Bin)"
   ]
  },
  {
   "attachments": {},
   "cell_type": "markdown",
   "metadata": {},
   "source": [
    "**Constraints:** \n",
    "\n",
    "* Indicators must be binary\n",
    "  \n",
    "  $(\\forall{(i, j) \\text{ } \\epsilon \\text{ } [m] \\times [n]})(x_{i, j} \\epsilon \\{0, 1\\})$\n",
    "\n",
    "* Cameras cannot be placed where containers are located \n",
    "  \n",
    "  $(\\forall{c \\epsilon C})(x_{c_x, c_y} = 0)$\n",
    "  \n",
    "* Each container must be seen by at least one camera\n",
    "  \n",
    "  $(\\forall{c \\epsilon C})(\\sum_{(i, j) \\text{ } \\epsilon \\text{ } \\text{seen\\_from}(c)} x_{i, j} \\geq 1)$ \n",
    "  \n",
    "  Where $\\text{seen\\_from}(c) = \\{(c_x \\pm i, c_y \\pm i) \\text{ : } i \\epsilon [k]\\} \\text{ } \\cap \\text{ } ([m] \\times [n])$"
   ]
  },
  {
   "cell_type": "code",
   "execution_count": 7,
   "metadata": {},
   "outputs": [
    {
     "data": {
      "text/plain": [
       "(1-dimensional DenseAxisArray{ConstraintRef{Model, MathOptInterface.ConstraintIndex{MathOptInterface.ScalarAffineFunction{Float64}, MathOptInterface.EqualTo{Float64}}, ScalarShape},1,...} with index sets:\n",
       "    Dimension 1, [\"c0\", \"c1\", \"c10\", \"c2\", \"c3\", \"c4\", \"c5\", \"c6\", \"c7\", \"c8\", \"c9\"]\n",
       "And data, a 11-element Vector{ConstraintRef{Model, MathOptInterface.ConstraintIndex{MathOptInterface.ScalarAffineFunction{Float64}, MathOptInterface.EqualTo{Float64}}, ScalarShape}}:\n",
       " x[1,1] == 0.0\n",
       " x[1,2] == 0.0\n",
       " x[5,5] == 0.0\n",
       " x[1,4] == 0.0\n",
       " x[2,1] == 0.0\n",
       " x[2,5] == 0.0\n",
       " x[3,3] == 0.0\n",
       " x[3,5] == 0.0\n",
       " x[4,3] == 0.0\n",
       " x[5,3] == 0.0\n",
       " x[5,4] == 0.0, 1-dimensional DenseAxisArray{ConstraintRef{Model, MathOptInterface.ConstraintIndex{MathOptInterface.ScalarAffineFunction{Float64}, MathOptInterface.GreaterThan{Float64}}, ScalarShape},1,...} with index sets:\n",
       "    Dimension 1, Pair{String, Any}[\"c1\" => Any[[2, 2], [1, 1], [1, 3], [3, 2], [1, 4]], \"c9\" => Any[[4, 4], [5, 3], [5, 5], [3, 4], [5, 2]], \"c2\" => Any[[2, 4], [1, 3], [1, 5], [3, 4], [1, 2]], \"c8\" => Any[[4, 3], [5, 2], [5, 4], [3, 3], [5, 1], [5, 5]], \"c4\" => Any[[1, 5], [3, 5], [2, 4], [4, 5], [2, 3]], \"c10\" => Any[[4, 5], [5, 4], [3, 5], [5, 3]], \"c6\" => Any[[2, 5], [4, 5], [3, 4], [1, 5], [5, 5], [3, 3]], \"c3\" => Any[[1, 1], [3, 1], [2, 2], [4, 1], [2, 3]], \"c7\" => Any[[3, 3], [5, 3], [4, 2], [4, 4], [2, 3], [4, 1], [4, 5]], \"c0\" => Any[[2, 1], [1, 2], [3, 1], [1, 3]], \"c5\" => Any[[2, 3], [4, 3], [3, 2], [3, 4], [1, 3], [5, 3], [3, 1], [3, 5]]]\n",
       "And data, a 11-element Vector{ConstraintRef{Model, MathOptInterface.ConstraintIndex{MathOptInterface.ScalarAffineFunction{Float64}, MathOptInterface.GreaterThan{Float64}}, ScalarShape}}:\n",
       " x[1,1] + x[2,2] + x[3,2] + x[1,3] + x[1,4] >= 1.0\n",
       " x[5,2] + x[5,3] + x[3,4] + x[4,4] + x[5,5] >= 1.0\n",
       " x[1,2] + x[1,3] + x[2,4] + x[3,4] + x[1,5] >= 1.0\n",
       " x[5,1] + x[5,2] + x[3,3] + x[4,3] + x[5,4] + x[5,5] >= 1.0\n",
       " x[2,3] + x[2,4] + x[1,5] + x[3,5] + x[4,5] >= 1.0\n",
       " x[5,3] + x[5,4] + x[3,5] + x[4,5] >= 1.0\n",
       " x[3,3] + x[3,4] + x[1,5] + x[2,5] + x[4,5] + x[5,5] >= 1.0\n",
       " x[1,1] + x[3,1] + x[4,1] + x[2,2] + x[2,3] >= 1.0\n",
       " x[4,1] + x[4,2] + x[2,3] + x[3,3] + x[5,3] + x[4,4] + x[4,5] >= 1.0\n",
       " x[2,1] + x[3,1] + x[1,2] + x[1,3] >= 1.0\n",
       " x[3,1] + x[3,2] + x[1,3] + x[2,3] + x[4,3] + x[5,3] + x[3,4] + x[3,5] >= 1.0)"
      ]
     },
     "metadata": {},
     "output_type": "display_data"
    }
   ],
   "source": [
    "adjacent_dict = Dict{String, Any}()\n",
    "for c in containers\n",
    "    adjacent_dict[c] = []\n",
    "    for i in range(1, k)\n",
    "        x_ = cx(c)\n",
    "        y_ = cy(c)\n",
    "        # println(x_, y_)\n",
    "\n",
    "        if (x_ - i > 0)\n",
    "            push!(adjacent_dict[c], [x_ - i, y_])\n",
    "        end\n",
    "        if (x_ + i <= m)\n",
    "            push!(adjacent_dict[c], [x_ + i, y_])\n",
    "        end\n",
    "        if (y_ - i > 0)\n",
    "            push!(adjacent_dict[c], [x_, y_ - i])\n",
    "        end\n",
    "        if (y_ + i <= n)\n",
    "            push!(adjacent_dict[c], [x_, y_ + i])\n",
    "        end\n",
    "    end\n",
    "end\n",
    "\n",
    "@constraints(model, begin\n",
    "    [c in containers], x[cx(c), cy(c)] == 0\n",
    "    [(c, adjacent) in adjacent_dict], sum(x[adj[1], adj[2]] for adj in adjacent) >= 1\n",
    "end)"
   ]
  },
  {
   "attachments": {},
   "cell_type": "markdown",
   "metadata": {},
   "source": [
    "**Objective:** minimum number of cameras to cover all container locations\n",
    "\n",
    "$min(\\sum_{(i, j) \\text{ } \\epsilon \\text{ } [m] \\times [n]} x_{i, j})$"
   ]
  },
  {
   "cell_type": "code",
   "execution_count": 8,
   "metadata": {},
   "outputs": [
    {
     "data": {
      "text/latex": [
       "$$ x_{1,1} + x_{1,2} + x_{1,3} + x_{1,4} + x_{1,5} + x_{2,1} + x_{2,2} + x_{2,3} + x_{2,4} + x_{2,5} + x_{3,1} + x_{3,2} + x_{3,3} + x_{3,4} + x_{3,5} + x_{4,1} + x_{4,2} + x_{4,3} + x_{4,4} + x_{4,5} + x_{5,1} + x_{5,2} + x_{5,3} + x_{5,4} + x_{5,5} $$"
      ],
      "text/plain": [
       "x[1,1] + x[1,2] + x[1,3] + x[1,4] + x[1,5] + x[2,1] + x[2,2] + x[2,3] + x[2,4] + x[2,5] + x[3,1] + x[3,2] + x[3,3] + x[3,4] + x[3,5] + x[4,1] + x[4,2] + x[4,3] + x[4,4] + x[4,5] + x[5,1] + x[5,2] + x[5,3] + x[5,4] + x[5,5]"
      ]
     },
     "metadata": {},
     "output_type": "display_data"
    }
   ],
   "source": [
    "@objective(model, Min, sum(x[i, j] for i in range(1, m), j in range(1, n)))"
   ]
  },
  {
   "cell_type": "code",
   "execution_count": 9,
   "metadata": {},
   "outputs": [
    {
     "data": {
      "text/plain": [
       "* Solver : GLPK\n",
       "\n",
       "* Status\n",
       "  Result count       : 1\n",
       "  Termination status : OPTIMAL\n",
       "  Message from the solver:\n",
       "  \"Solution is optimal\"\n",
       "\n",
       "* Candidate solution (result #1)\n",
       "  Primal status      : FEASIBLE_POINT\n",
       "  Dual status        : NO_SOLUTION\n",
       "  Objective value    : 4.00000e+00\n",
       "  Objective bound    : 4.00000e+00\n",
       "  Relative gap       : 0.00000e+00\n",
       "\n",
       "* Work counters\n",
       "  Solve time (sec)   : 2.00009e-03\n"
      ]
     },
     "metadata": {},
     "output_type": "display_data"
    }
   ],
   "source": [
    "# Optimize the model\n",
    "optimize!(model)\n",
    "solution_summary(model)"
   ]
  },
  {
   "attachments": {},
   "cell_type": "markdown",
   "metadata": {},
   "source": [
    "#### **Results:**"
   ]
  },
  {
   "cell_type": "code",
   "execution_count": 10,
   "metadata": {},
   "outputs": [
    {
     "name": "stdout",
     "output_type": "stream",
     "text": [
      " -> (1, 3)\n",
      " -> (3, 1)\n",
      " -> (4, 5)\n",
      " -> (5, 2)\n",
      "\n",
      "Field:\n",
      "1 1 2 1 0 \n",
      "1 0 0 0 1 \n",
      "2 0 1 0 1 \n",
      "0 0 1 0 2 \n",
      "0 2 1 1 1 \n"
     ]
    }
   ],
   "source": [
    "field = [[0 for _ in range(1, m)] for _ in range(1, n)]\n",
    "for c in containers\n",
    "    field[cx(c)][cy(c)] = 1\n",
    "end\n",
    "\n",
    "no_cameras = 0\n",
    "for i in range(1, m), j in range(1, n)\n",
    "    if (value(x[i, j]) == 1)\n",
    "        println(\" -> (\", i, \", \", j, \")\")\n",
    "        field[i][j] = 2\n",
    "    end\n",
    "end\n",
    "\n",
    "println(\"\\nField:\")\n",
    "for i in range(1, m)\n",
    "    for j in range(1, m)\n",
    "        print(field[i][j], \" \")\n",
    "    end\n",
    "    println()\n",
    "end"
   ]
  },
  {
   "attachments": {},
   "cell_type": "markdown",
   "metadata": {},
   "source": [
    "* Cameras arrangement for `k = k + 1`"
   ]
  },
  {
   "cell_type": "code",
   "execution_count": 11,
   "metadata": {},
   "outputs": [
    {
     "name": "stdout",
     "output_type": "stream",
     "text": [
      "Cameras:\n",
      " -> (1, 3)\n",
      " -> (4, 5)\n",
      " -> (5, 1)\n",
      "\n",
      "Field:\n",
      "1 1 2 1 0 \n",
      "1 0 0 0 1 \n",
      "0 0 1 0 1 \n",
      "0 0 1 0 2 \n",
      "2 0 1 1 1 \n"
     ]
    }
   ],
   "source": [
    "k = k + 1\n",
    "\n",
    "# Build the model\n",
    "model = Model()\n",
    "set_optimizer(model, GLPK.Optimizer)\n",
    "\n",
    "# Predictor variables\n",
    "@variable(model, x[range(1, m), range(1, n)], Bin)\n",
    "\n",
    "# Constraints\n",
    "adjacent_dict = Dict{String, Any}()\n",
    "for c in containers\n",
    "    adjacent_dict[c] = []\n",
    "    for i in range(1, k)\n",
    "        x_ = cx(c)\n",
    "        y_ = cy(c)\n",
    "        # println(x_, y_)\n",
    "\n",
    "        if (x_ - i > 0)\n",
    "            push!(adjacent_dict[c], [x_ - i, y_])\n",
    "        end\n",
    "        if (x_ + i <= m)\n",
    "            push!(adjacent_dict[c], [x_ + i, y_])\n",
    "        end\n",
    "        if (y_ - i > 0)\n",
    "            push!(adjacent_dict[c], [x_, y_ - i])\n",
    "        end\n",
    "        if (y_ + i <= n)\n",
    "            push!(adjacent_dict[c], [x_, y_ + i])\n",
    "        end\n",
    "    end\n",
    "end\n",
    "\n",
    "@constraints(model, begin\n",
    "    [c in containers], x[cx(c), cy(c)] == 0\n",
    "    [(c, adjacent) in adjacent_dict], sum(x[adj[1], adj[2]] for adj in adjacent) >= 1\n",
    "end)\n",
    "\n",
    "# Objective\n",
    "@objective(model, Min, sum(x[i, j] for i in range(1, m), j in range(1, n)))\n",
    "\n",
    "# Optimize the model\n",
    "optimize!(model)\n",
    "solution_summary(model)\n",
    "\n",
    "# Show results\n",
    "field = [[0 for _ in range(1, m)] for _ in range(1, n)]\n",
    "for c in containers\n",
    "    field[cx(c)][cy(c)] = 1\n",
    "end\n",
    "\n",
    "println(\"Cameras:\")\n",
    "for i in range(1, m), j in range(1, n)\n",
    "    if (value(x[i, j]) == 1)\n",
    "        println(\" -> (\", i, \", \", j, \")\")\n",
    "        field[i][j] = 2\n",
    "    end\n",
    "end\n",
    "\n",
    "println(\"\\nField:\")\n",
    "for i in range(1, m)\n",
    "    for j in range(1, m)\n",
    "        print(field[i][j], \" \")\n",
    "    end\n",
    "    println()\n",
    "end"
   ]
  },
  {
   "cell_type": "code",
   "execution_count": null,
   "metadata": {},
   "outputs": [],
   "source": []
  }
 ],
 "metadata": {
  "kernelspec": {
   "display_name": "Julia 1.8.5",
   "language": "julia",
   "name": "julia-1.8"
  },
  "language_info": {
   "file_extension": ".jl",
   "mimetype": "application/julia",
   "name": "julia",
   "version": "1.8.5"
  },
  "orig_nbformat": 4,
  "vscode": {
   "interpreter": {
    "hash": "e3f8b5698cd39ed39688f65de903fa661ec26daeb8af358b39b10c40871c006f"
   }
  }
 },
 "nbformat": 4,
 "nbformat_minor": 2
}
