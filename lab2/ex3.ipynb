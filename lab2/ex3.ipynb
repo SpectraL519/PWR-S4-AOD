{
 "cells": [
  {
   "attachments": {},
   "cell_type": "markdown",
   "metadata": {},
   "source": [
    "<script type=\"text/javascript\"\n",
    "  src=\"https://cdnjs.cloudflare.com/ajax/libs/mathjax/2.7.0/MathJax.js?config=TeX-AMS_CHTML\">\n",
    "</script>\n",
    "<script type=\"text/x-mathjax-config\">\n",
    "  MathJax.Hub.Config({\n",
    "    tex2jax: {\n",
    "      inlineMath: [['$','$'], ['\\\\(','\\\\)']],\n",
    "      processEscapes: true},\n",
    "      jax: [\"input/TeX\",\"input/MathML\",\"input/AsciiMath\",\"output/CommonHTML\"],\n",
    "      extensions: [\"tex2jax.js\",\"mml2jax.js\",\"asciimath2jax.js\",\"MathMenu.js\",\"MathZoom.js\",\"AssistiveMML.js\", \"[Contrib]/a11y/accessibility-menu.js\"],\n",
    "      TeX: {\n",
    "      extensions: [\"AMSmath.js\",\"AMSsymbols.js\",\"noErrors.js\",\"noUndefined.js\"],\n",
    "      equationNumbers: {\n",
    "      autoNumber: \"AMS\"\n",
    "      }\n",
    "    }\n",
    "  });\n",
    "</script>\n",
    "\n",
    "Jakub Musiał\n",
    "\n",
    "# **AOD - lab2**\n",
    "\n",
    "## **Exercise 3 - Police cars**\n",
    "\n",
    "Knowing:\n",
    "* The minimum and maximum number of police cars for each district and shift\n",
    "* The minimum required number of police cars per district and shift\n",
    "\n",
    "Determine the optimal allocation of police cars to each district and shift (minimum total number of police cars)"
   ]
  },
  {
   "cell_type": "code",
   "execution_count": 1,
   "metadata": {},
   "outputs": [],
   "source": [
    "using JuMP\n",
    "using GLPK\n",
    "\n",
    "import JSON"
   ]
  },
  {
   "attachments": {},
   "cell_type": "markdown",
   "metadata": {},
   "source": [
    "#### **Data and utils**"
   ]
  },
  {
   "cell_type": "code",
   "execution_count": 2,
   "metadata": {},
   "outputs": [
    {
     "data": {
      "text/plain": [
       "Dict{String, Any} with 4 entries:\n",
       "  \"min_per_shift\"    => Dict{String, Any}(\"s1\"=>10, \"s2\"=>20, \"s3\"=>18)\n",
       "  \"max_no_cars\"      => Dict{String, Any}(\"d3\"=>Dict{String, Any}(\"s1\"=>8, \"s2\"…\n",
       "  \"min_per_district\" => Dict{String, Any}(\"d3\"=>13, \"d1\"=>10, \"d2\"=>14)\n",
       "  \"min_no_cars\"      => Dict{String, Any}(\"d3\"=>Dict{String, Any}(\"s1\"=>5, \"s2\"…"
      ]
     },
     "metadata": {},
     "output_type": "display_data"
    }
   ],
   "source": [
    "# Data initialization\n",
    "data_general = JSON.parse(read(\"data.json\", String))\n",
    "# Extraxt exercise 1 data from the general dictionary\n",
    "data = data_general[\"ex3\"]"
   ]
  },
  {
   "cell_type": "code",
   "execution_count": 3,
   "metadata": {},
   "outputs": [
    {
     "data": {
      "text/plain": [
       "([\"d1\", \"d2\", \"d3\"], [\"s1\", \"s2\", \"s3\"])"
      ]
     },
     "metadata": {},
     "output_type": "display_data"
    }
   ],
   "source": [
    "districts = sort(collect(keys(data[\"min_per_district\"])))\n",
    "shifts = sort(collect(keys(data[\"min_per_shift\"])))\n",
    "districts, shifts"
   ]
  },
  {
   "cell_type": "code",
   "execution_count": 4,
   "metadata": {},
   "outputs": [
    {
     "data": {
      "text/plain": [
       "mps (generic function with 1 method)"
      ]
     },
     "metadata": {},
     "output_type": "display_data"
    }
   ],
   "source": [
    "min_no(district::String, shift::String) = data[\"min_no_cars\"][district][shift]\n",
    "max_no(district::String, shift::String) = data[\"max_no_cars\"][district][shift]\n",
    "mpd(district::String) = data[\"min_per_district\"][district]\n",
    "mps(shift::String) = data[\"min_per_shift\"][shift]"
   ]
  },
  {
   "attachments": {},
   "cell_type": "markdown",
   "metadata": {},
   "source": [
    "#### **Build the model**\n",
    "\n",
    "Notation:\n",
    "* $D = \\text{districts}$\n",
    "* $S = \\text{shifts}$"
   ]
  },
  {
   "cell_type": "code",
   "execution_count": 5,
   "metadata": {},
   "outputs": [],
   "source": [
    "model = Model()\n",
    "set_optimizer(model, GLPK.Optimizer)"
   ]
  },
  {
   "attachments": {},
   "cell_type": "markdown",
   "metadata": {},
   "source": [
    "**Predictor variables:**\n",
    "\n",
    "$x_{d, s}$ where $(d, s) \\text{ } \\epsilon \\text{ } D \\times S$ - number of police cars assigned to district $d$ during shift $s$"
   ]
  },
  {
   "cell_type": "code",
   "execution_count": 6,
   "metadata": {},
   "outputs": [
    {
     "data": {
      "text/plain": [
       "2-dimensional DenseAxisArray{VariableRef,2,...} with index sets:\n",
       "    Dimension 1, [\"d1\", \"d2\", \"d3\"]\n",
       "    Dimension 2, [\"s1\", \"s2\", \"s3\"]\n",
       "And data, a 3×3 Matrix{VariableRef}:\n",
       " x[d1,s1]  x[d1,s2]  x[d1,s3]\n",
       " x[d2,s1]  x[d2,s2]  x[d2,s3]\n",
       " x[d3,s1]  x[d3,s2]  x[d3,s3]"
      ]
     },
     "metadata": {},
     "output_type": "display_data"
    }
   ],
   "source": [
    "@variable(model, x[districts, shifts] >= 0)"
   ]
  },
  {
   "attachments": {},
   "cell_type": "markdown",
   "metadata": {},
   "source": [
    "**Constraints:** \n",
    "* Number of cars must be non-negative\n",
    "  \n",
    "  $(\\forall{d \\epsilon D})(\\forall{s \\epsilon S})(x_{d, s} >= 0)$\n",
    "\n",
    "  \n",
    "* Number of cars must be a value from a specified range\n",
    "  \n",
    "  $(\\forall{d \\epsilon D})(\\forall{s \\epsilon S})(\\text{min\\_no\\_cars}(d, s) \\leq x_{d, s} \\leq \\text{max\\_no\\_cars}(d, s))$\n",
    "\n",
    "* The number of cars for each district and shift must be at least the minimum number assigned to that district or shift\n",
    "\n",
    "  $\n",
    "  \\left\\lbrace \n",
    "  \\begin{array}{l}\n",
    "  (\\forall{d \\epsilon D})(\\sum_{s \\epsilon S} x_{d, s} \\geq \\text{min\\_per\\_district}(d)) \\newline\n",
    "  (\\forall{s \\epsilon S})(\\sum_{d \\epsilon D} x_{d, s} \\geq \\text{min\\_per\\_shift}(s))\n",
    "  \\end{array}\\right.\n",
    "  $"
   ]
  },
  {
   "cell_type": "code",
   "execution_count": 7,
   "metadata": {},
   "outputs": [
    {
     "data": {
      "text/plain": [
       "(2-dimensional DenseAxisArray{ConstraintRef{Model, MathOptInterface.ConstraintIndex{MathOptInterface.ScalarAffineFunction{Float64}, MathOptInterface.Interval{Float64}}, ScalarShape},2,...} with index sets:\n",
       "    Dimension 1, [\"d1\", \"d2\", \"d3\"]\n",
       "    Dimension 2, [\"s1\", \"s2\", \"s3\"]\n",
       "And data, a 3×3 Matrix{ConstraintRef{Model, MathOptInterface.ConstraintIndex{MathOptInterface.ScalarAffineFunction{Float64}, MathOptInterface.Interval{Float64}}, ScalarShape}}:\n",
       " x[d1,s1] in [2.0, 3.0]  x[d1,s2] in [4.0, 7.0]   x[d1,s3] in [3.0, 5.0]\n",
       " x[d2,s1] in [3.0, 5.0]  x[d2,s2] in [6.0, 7.0]   x[d2,s3] in [5.0, 10.0]\n",
       " x[d3,s1] in [5.0, 8.0]  x[d3,s2] in [7.0, 12.0]  x[d3,s3] in [6.0, 10.0], 1-dimensional DenseAxisArray{ConstraintRef{Model, MathOptInterface.ConstraintIndex{MathOptInterface.ScalarAffineFunction{Float64}, MathOptInterface.GreaterThan{Float64}}, ScalarShape},1,...} with index sets:\n",
       "    Dimension 1, [\"d1\", \"d2\", \"d3\"]\n",
       "And data, a 3-element Vector{ConstraintRef{Model, MathOptInterface.ConstraintIndex{MathOptInterface.ScalarAffineFunction{Float64}, MathOptInterface.GreaterThan{Float64}}, ScalarShape}}:\n",
       " x[d1,s1] + x[d1,s2] + x[d1,s3] >= 10.0\n",
       " x[d2,s1] + x[d2,s2] + x[d2,s3] >= 14.0\n",
       " x[d3,s1] + x[d3,s2] + x[d3,s3] >= 13.0, 1-dimensional DenseAxisArray{ConstraintRef{Model, MathOptInterface.ConstraintIndex{MathOptInterface.ScalarAffineFunction{Float64}, MathOptInterface.GreaterThan{Float64}}, ScalarShape},1,...} with index sets:\n",
       "    Dimension 1, [\"s1\", \"s2\", \"s3\"]\n",
       "And data, a 3-element Vector{ConstraintRef{Model, MathOptInterface.ConstraintIndex{MathOptInterface.ScalarAffineFunction{Float64}, MathOptInterface.GreaterThan{Float64}}, ScalarShape}}:\n",
       " x[d1,s1] + x[d2,s1] + x[d3,s1] >= 10.0\n",
       " x[d1,s2] + x[d2,s2] + x[d3,s2] >= 20.0\n",
       " x[d1,s3] + x[d2,s3] + x[d3,s3] >= 18.0)"
      ]
     },
     "metadata": {},
     "output_type": "display_data"
    }
   ],
   "source": [
    "@constraints(model, begin\n",
    "    [d in districts, s in shifts], min_no(d, s) <= x[d, s] <= max_no(d, s)\n",
    "    [d in districts], sum(x[d, :]) >= mpd(d)\n",
    "    [s in shifts], sum(x[:, s]) >= mps(s)\n",
    "end)"
   ]
  },
  {
   "attachments": {},
   "cell_type": "markdown",
   "metadata": {},
   "source": [
    "**Objective:** minimum number of cars which meets the given requirements\n",
    "\n",
    "$min(\\sum_{(d, s) \\text{ } \\epsilon \\text{ } C \\times S} x_{d, s})$"
   ]
  },
  {
   "cell_type": "code",
   "execution_count": 8,
   "metadata": {},
   "outputs": [
    {
     "data": {
      "text/latex": [
       "$$ x_{d1,s1} + x_{d1,s2} + x_{d1,s3} + x_{d2,s1} + x_{d2,s2} + x_{d2,s3} + x_{d3,s1} + x_{d3,s2} + x_{d3,s3} $$"
      ],
      "text/plain": [
       "x[d1,s1] + x[d1,s2] + x[d1,s3] + x[d2,s1] + x[d2,s2] + x[d2,s3] + x[d3,s1] + x[d3,s2] + x[d3,s3]"
      ]
     },
     "metadata": {},
     "output_type": "display_data"
    }
   ],
   "source": [
    "@objective(model, Min, sum(x[d, s] for d in districts, s in shifts))"
   ]
  },
  {
   "cell_type": "code",
   "execution_count": 9,
   "metadata": {},
   "outputs": [
    {
     "data": {
      "text/plain": [
       "* Solver : GLPK\n",
       "\n",
       "* Status\n",
       "  Result count       : 1\n",
       "  Termination status : OPTIMAL\n",
       "  Message from the solver:\n",
       "  \"Solution is optimal\"\n",
       "\n",
       "* Candidate solution (result #1)\n",
       "  Primal status      : FEASIBLE_POINT\n",
       "  Dual status        : FEASIBLE_POINT\n",
       "  Objective value    : 4.80000e+01\n",
       "  Objective bound    : -Inf\n",
       "  Dual objective value : 4.80000e+01\n",
       "\n",
       "* Work counters\n",
       "  Solve time (sec)   : 0.00000e+00\n"
      ]
     },
     "metadata": {},
     "output_type": "display_data"
    }
   ],
   "source": [
    "# Optimize the model\n",
    "optimize!(model)\n",
    "solution_summary(model)"
   ]
  },
  {
   "attachments": {},
   "cell_type": "markdown",
   "metadata": {},
   "source": [
    "#### **Results**"
   ]
  },
  {
   "cell_type": "code",
   "execution_count": 11,
   "metadata": {},
   "outputs": [
    {
     "name": "stdout",
     "output_type": "stream",
     "text": [
      "district: d1\n",
      "\ts1 - 2.0\n",
      "\ts2 - 7.0\n",
      "\ts3 - 5.0\n",
      "district: d2\n",
      "\ts1 - 3.0\n",
      "\ts2 - 6.0\n",
      "\ts3 - 7.0\n",
      "district: d3\n",
      "\ts1 - 5.0\n",
      "\ts2 - 7.0\n",
      "\ts3 - 6.0\n",
      "\n",
      "total no. cars: 48.0\n"
     ]
    }
   ],
   "source": [
    "for d in districts\n",
    "    println(\"district: \", d)\n",
    "    for s in shifts\n",
    "        println(\"\\t\", s, \" - \", value(x[d, s]))\n",
    "    end\n",
    "end\n",
    "\n",
    "println(\"\\ntotal no. cars: \", sum(value(x[d, s]) for d in districts, s in shifts))"
   ]
  }
 ],
 "metadata": {
  "kernelspec": {
   "display_name": "Julia 1.8.5",
   "language": "julia",
   "name": "julia-1.8"
  },
  "language_info": {
   "file_extension": ".jl",
   "mimetype": "application/julia",
   "name": "julia",
   "version": "1.8.5"
  },
  "orig_nbformat": 4,
  "vscode": {
   "interpreter": {
    "hash": "bb3fc9253f691de8b2afab607c1d2c8a0f35ddacb9fe9af8dd6ee1b2ca974a2f"
   }
  }
 },
 "nbformat": 4,
 "nbformat_minor": 2
}
