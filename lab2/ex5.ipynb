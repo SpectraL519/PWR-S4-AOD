{
 "cells": [
  {
   "attachments": {},
   "cell_type": "markdown",
   "metadata": {},
   "source": [
    "<script type=\"text/javascript\"\n",
    "  src=\"https://cdnjs.cloudflare.com/ajax/libs/mathjax/2.7.0/MathJax.js?config=TeX-AMS_CHTML\">\n",
    "</script>\n",
    "<script type=\"text/x-mathjax-config\">\n",
    "  MathJax.Hub.Config({\n",
    "    tex2jax: {\n",
    "      inlineMath: [['$','$'], ['\\\\(','\\\\)']],\n",
    "      processEscapes: true},\n",
    "      jax: [\"input/TeX\",\"input/MathML\",\"input/AsciiMath\",\"output/CommonHTML\"],\n",
    "      extensions: [\"tex2jax.js\",\"mml2jax.js\",\"asciimath2jax.js\",\"MathMenu.js\",\"MathZoom.js\",\"AssistiveMML.js\", \"[Contrib]/a11y/accessibility-menu.js\"],\n",
    "      TeX: {\n",
    "      extensions: [\"AMSmath.js\",\"AMSsymbols.js\",\"noErrors.js\",\"noUndefined.js\"],\n",
    "      equationNumbers: {\n",
    "      autoNumber: \"AMS\"\n",
    "      }\n",
    "    }\n",
    "  });\n",
    "</script>\n",
    "\n",
    "Jakub Musiał\n",
    "\n",
    "# **AOD - lab2**\n",
    "\n",
    "## **Exercise 5 - Production plan**\n",
    "\n",
    "Knowing:\n",
    "* The product prices per kg\n",
    "* Material costs per kg\n",
    "* Production times of each product per machine\n",
    "* Maximum weekly demand of each product\n",
    "* Machine work time costs (per hour)\n",
    "\n",
    "Determine the optimal weekly production plan and the sales profit"
   ]
  },
  {
   "cell_type": "code",
   "execution_count": 1,
   "metadata": {},
   "outputs": [],
   "source": [
    "using JuMP\n",
    "using GLPK\n",
    "\n",
    "import JSON"
   ]
  },
  {
   "attachments": {},
   "cell_type": "markdown",
   "metadata": {},
   "source": [
    "#### **Data and utils**"
   ]
  },
  {
   "cell_type": "code",
   "execution_count": 2,
   "metadata": {},
   "outputs": [
    {
     "data": {
      "text/plain": [
       "Dict{String, Any} with 3 entries:\n",
       "  \"machine_cost_per_hour\" => Dict{String, Any}(\"m3\"=>3, \"m2\"=>2, \"m1\"=>2)\n",
       "  \"products\"              => Dict{String, Any}(\"p4\"=>Dict{String, Any}(\"kg_prod…\n",
       "  \"max_time\"              => 3600"
      ]
     },
     "metadata": {},
     "output_type": "display_data"
    }
   ],
   "source": [
    "# Data initialization\n",
    "data_general = JSON.parse(read(\"data.json\", String))\n",
    "# Extraxt exercise 1 data from the general dictionary\n",
    "data = data_general[\"ex5\"]"
   ]
  },
  {
   "cell_type": "code",
   "execution_count": 3,
   "metadata": {},
   "outputs": [
    {
     "data": {
      "text/plain": [
       "([\"p1\", \"p2\", \"p3\", \"p4\"], [\"m1\", \"m2\", \"m3\"], 3600)"
      ]
     },
     "metadata": {},
     "output_type": "display_data"
    }
   ],
   "source": [
    "products = sort(collect(keys(data[\"products\"])))\n",
    "machines = sort(collect(keys(data[\"machine_cost_per_hour\"])))\n",
    "max_time = data[\"max_time\"]\n",
    "products, machines, max_time"
   ]
  },
  {
   "cell_type": "code",
   "execution_count": 4,
   "metadata": {},
   "outputs": [
    {
     "data": {
      "text/plain": [
       "profit (generic function with 1 method)"
      ]
     },
     "metadata": {},
     "output_type": "display_data"
    }
   ],
   "source": [
    "price(product::String) = data[\"products\"][product][\"price_per_kg\"]\n",
    "material_cost(product::String) = data[\"products\"][product][\"material_cost\"]\n",
    "demand(product::String) = data[\"products\"][product][\"max_weekly_demand\"]\n",
    "prod_time(product::String, machine::String) = data[\"products\"][product][\"kg_production_time\"][machine]\n",
    "machine_cost(machine::String) = data[\"machine_cost_per_hour\"][machine]\n",
    "profit(\n",
    "    product::String\n",
    ") = price(product) - material_cost(product) - sum(prod_time(product, machine) / 60 * machine_cost(machine) for machine in machines)"
   ]
  },
  {
   "attachments": {},
   "cell_type": "markdown",
   "metadata": {},
   "source": [
    "#### **Build the model**\n",
    "\n",
    "Notation:\n",
    "* $P = \\text{products}$\n",
    "* $M = \\text{machines}$"
   ]
  },
  {
   "cell_type": "code",
   "execution_count": 5,
   "metadata": {},
   "outputs": [],
   "source": [
    "model = Model()\n",
    "set_optimizer(model, GLPK.Optimizer)"
   ]
  },
  {
   "attachments": {},
   "cell_type": "markdown",
   "metadata": {},
   "source": [
    "**Predictor variables:**\n",
    "\n",
    "$x_{p}$ where $(p) \\text{ } \\epsilon \\text{ } P$ - the number of produced $kg$ of product $p$"
   ]
  },
  {
   "cell_type": "code",
   "execution_count": 6,
   "metadata": {},
   "outputs": [
    {
     "data": {
      "text/plain": [
       "1-dimensional DenseAxisArray{VariableRef,1,...} with index sets:\n",
       "    Dimension 1, [\"p1\", \"p2\", \"p3\", \"p4\"]\n",
       "And data, a 4-element Vector{VariableRef}:\n",
       " x[p1]\n",
       " x[p2]\n",
       " x[p3]\n",
       " x[p4]"
      ]
     },
     "metadata": {},
     "output_type": "display_data"
    }
   ],
   "source": [
    "@variable(model, x[products] >= 0)"
   ]
  },
  {
   "attachments": {},
   "cell_type": "markdown",
   "metadata": {},
   "source": [
    "**Constraints:** \n",
    "\n",
    "* Product ammounts must be non-negative\n",
    "  \n",
    "  $(\\forall{(p) \\text{ } \\epsilon \\text{ } P})(x_p \\geq 0)$\n",
    "\n",
    "* The company cannot produce more of each product than their maximum weekly demands\n",
    "  \n",
    "  $(\\forall{p \\epsilon P})( x_p \\leq \\text{max\\_weekly\\_demand(p)})$\n",
    "  \n",
    "* Machines cannot work for more than $60h$ per week\n",
    "  \n",
    "  $(\\forall{m \\epsilon M})(\\sum_{p \\epsilon P} x_p * \\text{kg\\_production\\_time}(p, m) \\leq \\text{max\\_machine\\_work\\_time} = 3600 \\text{ min})$"
   ]
  },
  {
   "cell_type": "code",
   "execution_count": 7,
   "metadata": {},
   "outputs": [
    {
     "data": {
      "text/plain": [
       "(1-dimensional DenseAxisArray{ConstraintRef{Model, MathOptInterface.ConstraintIndex{MathOptInterface.ScalarAffineFunction{Float64}, MathOptInterface.LessThan{Float64}}, ScalarShape},1,...} with index sets:\n",
       "    Dimension 1, [\"p1\", \"p2\", \"p3\", \"p4\"]\n",
       "And data, a 4-element Vector{ConstraintRef{Model, MathOptInterface.ConstraintIndex{MathOptInterface.ScalarAffineFunction{Float64}, MathOptInterface.LessThan{Float64}}, ScalarShape}}:\n",
       " x[p1] <= 400.0\n",
       " x[p2] <= 100.0\n",
       " x[p3] <= 150.0\n",
       " x[p4] <= 500.0, 1-dimensional DenseAxisArray{ConstraintRef{Model, MathOptInterface.ConstraintIndex{MathOptInterface.ScalarAffineFunction{Float64}, MathOptInterface.LessThan{Float64}}, ScalarShape},1,...} with index sets:\n",
       "    Dimension 1, [\"m1\", \"m2\", \"m3\"]\n",
       "And data, a 3-element Vector{ConstraintRef{Model, MathOptInterface.ConstraintIndex{MathOptInterface.ScalarAffineFunction{Float64}, MathOptInterface.LessThan{Float64}}, ScalarShape}}:\n",
       " 5 x[p1] + 3 x[p2] + 4 x[p3] + 4 x[p4] <= 3600.0\n",
       " 10 x[p1] + 6 x[p2] + 5 x[p3] + 2 x[p4] <= 3600.0\n",
       " 6 x[p1] + 4 x[p2] + 3 x[p3] + x[p4] <= 3600.0)"
      ]
     },
     "metadata": {},
     "output_type": "display_data"
    }
   ],
   "source": [
    "@constraints(model, begin\n",
    "    [p in products], sum(x[p]) <= demand(p)\n",
    "    [m in machines], sum(x[p] * prod_time(p, m) for p in products) <= max_time\n",
    "end)"
   ]
  },
  {
   "attachments": {},
   "cell_type": "markdown",
   "metadata": {},
   "source": [
    "**Objective:** maximum profit from product sales\n",
    "\n",
    "$max(\\sum_{p \\text{ } \\epsilon \\text{ } P} x_p * profit(p))$\n",
    "\n",
    "Where $\\text{profit}(p) = \\sum_{m \\text{ } \\epsilon \\text{ } M}[\\text{price}(p) - \\text{material\\_cost}(p) - (\\frac{\\text{prod\\_time}(p, m)}{60} * \\text{machine\\_cost(m)})]$ - profit of producing a single piece of product $p$"
   ]
  },
  {
   "cell_type": "code",
   "execution_count": 8,
   "metadata": {},
   "outputs": [
    {
     "data": {
      "text/latex": [
       "$$ 4.2 x_{p1} + 5.5 x_{p2} + 4.55 x_{p3} + 3.75 x_{p4} $$"
      ],
      "text/plain": [
       "4.2 x[p1] + 5.5 x[p2] + 4.55 x[p3] + 3.75 x[p4]"
      ]
     },
     "metadata": {},
     "output_type": "display_data"
    }
   ],
   "source": [
    "@objective(model, Max, sum(x[p] * profit(p) for p in products))"
   ]
  },
  {
   "cell_type": "code",
   "execution_count": 9,
   "metadata": {},
   "outputs": [
    {
     "data": {
      "text/plain": [
       "* Solver : GLPK\n",
       "\n",
       "* Status\n",
       "  Result count       : 1\n",
       "  Termination status : OPTIMAL\n",
       "  Message from the solver:\n",
       "  \"Solution is optimal\"\n",
       "\n",
       "* Candidate solution (result #1)\n",
       "  Primal status      : FEASIBLE_POINT\n",
       "  Dual status        : FEASIBLE_POINT\n",
       "  Objective value    : 3.63250e+03\n",
       "  Objective bound    : Inf\n",
       "  Dual objective value : 3.63250e+03\n",
       "\n",
       "* Work counters\n",
       "  Solve time (sec)   : 0.00000e+00\n"
      ]
     },
     "metadata": {},
     "output_type": "display_data"
    }
   ],
   "source": [
    "# Optimize the model\n",
    "optimize!(model)\n",
    "solution_summary(model)"
   ]
  },
  {
   "attachments": {},
   "cell_type": "markdown",
   "metadata": {},
   "source": [
    "#### **Results:**"
   ]
  },
  {
   "cell_type": "code",
   "execution_count": 15,
   "metadata": {},
   "outputs": [
    {
     "name": "stdout",
     "output_type": "stream",
     "text": [
      "Weekly production plan:\n",
      "product: p1\n",
      "\tquantity = 125.0\n",
      "\tprofit = 525.0\n",
      "\tmachine work times:\n",
      "\t\tm1625.0\n",
      "\t\tm21250.0\n",
      "\t\tm3750.0\n",
      "product: p2\n",
      "\tquantity = 100.0\n",
      "\tprofit = 550.0\n",
      "\tmachine work times:\n",
      "\t\tm1300.0\n",
      "\t\tm2600.0\n",
      "\t\tm3400.0\n",
      "product: p3\n",
      "\tquantity = 150.0\n",
      "\tprofit = 682.5\n",
      "\tmachine work times:\n",
      "\t\tm1600.0\n",
      "\t\tm2750.0\n",
      "\t\tm3450.0\n",
      "product: p4\n",
      "\tquantity = 500.0\n",
      "\tprofit = 1875.0\n",
      "\tmachine work times:\n",
      "\t\tm12000.0\n",
      "\t\tm21000.0\n",
      "\t\tm3500.0\n",
      "\n",
      "Total profit = 3632.5\n",
      "\n",
      "Total machine work times [min]:\n",
      "\tm3 : 2100\n",
      "\tm2 : 3600\n",
      "\tm1 : 3525\n"
     ]
    }
   ],
   "source": [
    "println(\"Weekly production plan:\")\n",
    "total_profit = 0\n",
    "machine_work_times = Dict{String, Integer}(\"m1\"=>0, \"m2\"=>0, \"m3\"=>0)\n",
    "for p in products\n",
    "    println(\"product: \", p)\n",
    "    println(\"\\tquantity = \", value(x[p]))\n",
    "    println(\"\\tprofit = \", value(x[p]) * profit(p))\n",
    "    println(\"\\tmachine work times:\")\n",
    "    total_profit += value(x[p]) * profit(p)\n",
    "    for m in machines\n",
    "        time = value(x[p]) * prod_time(p, m)\n",
    "        println(\"\\t\\t\", m, time)\n",
    "        machine_work_times[m] += time\n",
    "    end\n",
    "end\n",
    "\n",
    "println(\"\\nTotal profit = \", total_profit)\n",
    "println(\"\\nTotal machine work times [min]:\")\n",
    "for (m, t) in machine_work_times\n",
    "    println(\"\\t\", m, \" : \", t)\n",
    "end"
   ]
  },
  {
   "cell_type": "code",
   "execution_count": 11,
   "metadata": {},
   "outputs": [],
   "source": []
  }
 ],
 "metadata": {
  "kernelspec": {
   "display_name": "Julia 1.8.5",
   "language": "julia",
   "name": "julia-1.8"
  },
  "language_info": {
   "file_extension": ".jl",
   "mimetype": "application/julia",
   "name": "julia",
   "version": "1.8.5"
  },
  "orig_nbformat": 4,
  "vscode": {
   "interpreter": {
    "hash": "bb3fc9253f691de8b2afab607c1d2c8a0f35ddacb9fe9af8dd6ee1b2ca974a2f"
   }
  }
 },
 "nbformat": 4,
 "nbformat_minor": 2
}
